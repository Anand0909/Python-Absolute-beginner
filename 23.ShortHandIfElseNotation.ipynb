{
 "cells": [
  {
   "cell_type": "code",
   "execution_count": 4,
   "id": "caae50f9-6a26-4225-baa7-a8eb1925120e",
   "metadata": {},
   "outputs": [
    {
     "name": "stdin",
     "output_type": "stream",
     "text": [
      "enter a\n",
      " 21\n",
      "enter b\n",
      " 10\n"
     ]
    },
    {
     "name": "stdout",
     "output_type": "stream",
     "text": [
      "A, B se bda hai bhai\n"
     ]
    }
   ],
   "source": [
    "a = int(input(\"enter a\\n\"))\n",
    "b = int(input(\"enter b\\n\"))\n",
    "\n",
    "print(\"A, B se bda hai bhai\") if a>b else print(\"B, A se bda hai bhai\")\n"
   ]
  },
  {
   "cell_type": "code",
   "execution_count": 5,
   "id": "1302d00d-c989-42b0-ad36-54b7d2983f30",
   "metadata": {},
   "outputs": [],
   "source": [
    "# This is just tp show that if else statement can be written in single line for working.\n",
    "\n",
    "# It wil be required when program ize wil be very big "
   ]
  },
  {
   "cell_type": "code",
   "execution_count": null,
   "id": "1514f837-74f1-4a30-908f-e840fbc76287",
   "metadata": {},
   "outputs": [],
   "source": []
  }
 ],
 "metadata": {
  "kernelspec": {
   "display_name": "Python 3 (ipykernel)",
   "language": "python",
   "name": "python3"
  },
  "language_info": {
   "codemirror_mode": {
    "name": "ipython",
    "version": 3
   },
   "file_extension": ".py",
   "mimetype": "text/x-python",
   "name": "python",
   "nbconvert_exporter": "python",
   "pygments_lexer": "ipython3",
   "version": "3.10.8"
  }
 },
 "nbformat": 4,
 "nbformat_minor": 5
}
