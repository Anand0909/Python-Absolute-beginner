{
 "cells": [
  {
   "cell_type": "code",
   "execution_count": 6,
   "id": "490d0b6d-4bc3-43a1-b700-694b2035a6aa",
   "metadata": {},
   "outputs": [],
   "source": [
    "# here i want to open and read a text file in python , without opening that file in actual"
   ]
  },
  {
   "cell_type": "code",
   "execution_count": 7,
   "id": "d74d28af-3ac9-4cce-819d-b87d4be6fc8e",
   "metadata": {},
   "outputs": [],
   "source": [
    "f = open(\"file to read.txt\")\n",
    "\n",
    "# this step is opening that file in background memory"
   ]
  },
  {
   "cell_type": "code",
   "execution_count": 8,
   "id": "103e15a3-48eb-41f0-9788-a83c013e6111",
   "metadata": {},
   "outputs": [],
   "source": [
    "content = f.read()\n",
    "\n",
    "# this step is reading that file in background memory"
   ]
  },
  {
   "cell_type": "code",
   "execution_count": 9,
   "id": "c1484e10-8444-469c-ab32-c888fbc5e7d7",
   "metadata": {},
   "outputs": [
    {
     "name": "stdout",
     "output_type": "stream",
     "text": [
      "Anand is a very good boy\n",
      "Anand will be a Billionaire in near future\n",
      "Anand will help Bharat to become a very great nation\n"
     ]
    }
   ],
   "source": [
    "print(content)\n",
    "\n",
    "# this step will print those details"
   ]
  },
  {
   "cell_type": "code",
   "execution_count": 11,
   "id": "178c0ff6-cb8f-45c3-aaed-d7987daa5dd4",
   "metadata": {},
   "outputs": [],
   "source": [
    "f.close()\n",
    "\n",
    "# we will close that file to release te background memory which was being used in opening and reading that file "
   ]
  },
  {
   "cell_type": "code",
   "execution_count": 12,
   "id": "1b569595-c209-40e4-9594-d61c6bc68c08",
   "metadata": {},
   "outputs": [
    {
     "name": "stdout",
     "output_type": "stream",
     "text": [
      "Anand is a very good boy\n",
      "Anand will be a Billionaire in near future\n",
      "Anand will help Bharat to become a very great nation\n"
     ]
    }
   ],
   "source": [
    "# to open any file in read mode \n",
    "\n",
    "f = open(\"file to read.txt\",\"rt\")\n",
    "contnt = f.read()\n",
    "print(content)"
   ]
  },
  {
   "cell_type": "code",
   "execution_count": 20,
   "id": "c2f7d66f-7523-47f1-ab1a-de040c23b5a5",
   "metadata": {},
   "outputs": [
    {
     "name": "stdout",
     "output_type": "stream",
     "text": [
      "Anand\n"
     ]
    }
   ],
   "source": [
    "# read function works on character basis (Total caharacter available)\n",
    "\n",
    "f = open(\"file to read.txt\",\"rt\")\n",
    "content = f.read(5)\n",
    "print(content)\n",
    "\n"
   ]
  },
  {
   "cell_type": "code",
   "execution_count": 21,
   "id": "108c6b9b-a117-42df-9275-dea6e7e60a6d",
   "metadata": {},
   "outputs": [
    {
     "name": "stdout",
     "output_type": "stream",
     "text": [
      "Anand\n"
     ]
    }
   ],
   "source": [
    "contet = f.read(4)\n",
    "print(content)"
   ]
  },
  {
   "cell_type": "code",
   "execution_count": 2,
   "id": "3a1ffade-0373-4e19-9e0d-4bedb2e0180a",
   "metadata": {},
   "outputs": [
    {
     "name": "stdout",
     "output_type": "stream",
     "text": [
      "Anand is a very good boy\n",
      "Anand will be a Billionaire in near future\n",
      "Anand will help Bharat to become a very great nation\n"
     ]
    }
   ],
   "source": [
    "f = open(\"file to read.txt\")\n",
    "\n",
    "content = f.read()\n",
    "print(content)\n",
    "\n",
    "f.close()"
   ]
  },
  {
   "cell_type": "code",
   "execution_count": 3,
   "id": "3ed3eff7-04e0-4b20-85ef-559923b47a23",
   "metadata": {},
   "outputs": [
    {
     "name": "stdout",
     "output_type": "stream",
     "text": [
      "Anand is a very good boy\n",
      "Anand will be a Billionaire in near future\n",
      "Anand will help Bharat to become a very great nation\n"
     ]
    }
   ],
   "source": [
    "# \"r\" => r stands for read monde\n",
    "\n",
    "f = open(\"file to read.txt\", \"r\")\n",
    "\n",
    "content = f.read()\n",
    "print(content)\n",
    "\n",
    "f.close()"
   ]
  },
  {
   "cell_type": "code",
   "execution_count": 5,
   "id": "9cf5aa5f-4eee-4669-8ba3-d35d8be87101",
   "metadata": {},
   "outputs": [
    {
     "name": "stdout",
     "output_type": "stream",
     "text": [
      "b'Anand is a very good boy\\nAnand will be a Billionaire in near future\\nAnand will help Bharat to become a very great nation'\n"
     ]
    }
   ],
   "source": [
    "# \"rb\" => it stands for read in binary mode\n",
    "\n",
    "f = open(\"file to read.txt\", \"rb\")\n",
    "\n",
    "content = f.read()\n",
    "print(content)\n",
    "\n",
    "f.close()"
   ]
  },
  {
   "cell_type": "code",
   "execution_count": 6,
   "id": "ae41c004-3027-4091-849e-acb4e5ff9789",
   "metadata": {},
   "outputs": [
    {
     "name": "stdout",
     "output_type": "stream",
     "text": [
      "Anand is a very good boy\n",
      "Anand will be a Billionaire in near future\n",
      "Anand will help Bharat to become a very great nation\n"
     ]
    }
   ],
   "source": [
    "# \"rt\" => it stands for read in text mode => default mode\n",
    "\n",
    "f = open(\"file to read.txt\", \"rt\")\n",
    "\n",
    "content = f.read()\n",
    "print(content)\n",
    "\n",
    "f.close()"
   ]
  },
  {
   "cell_type": "code",
   "execution_count": 12,
   "id": "f4360ff6-f066-434d-a003-d00d5393a605",
   "metadata": {},
   "outputs": [
    {
     "name": "stdout",
     "output_type": "stream",
     "text": [
      "1 Anand is a very good boy\n",
      "Anand wil\n",
      "2 l be a Billionaire in near future\n",
      "Anand will help Bharat to become a very great nation\n"
     ]
    }
   ],
   "source": [
    "# \"rt\" => it stands for read in text mode => default mode\n",
    "# with rt function , read(number) will give output as text count character equal to given bumber\n",
    "\n",
    "f = open(\"file to read.txt\", \"rt\")\n",
    "\n",
    "content = f.read(34)\n",
    "print(\"1\",content)\n",
    "\n",
    "content = f.read(344)\n",
    "print(\"2\",content)\n",
    "\n",
    "\n",
    "f.close()"
   ]
  },
  {
   "cell_type": "code",
   "execution_count": 13,
   "id": "94edb88a-1e68-43dc-90c5-c37d130a0407",
   "metadata": {},
   "outputs": [
    {
     "name": "stdout",
     "output_type": "stream",
     "text": [
      "Anand is a very good boy\n",
      "Anand will be a Billionaire in near future\n",
      "Anand will help Bharat to become a very great nation"
     ]
    }
   ],
   "source": [
    "# To print content line by line\n",
    "\n",
    "f = open(\"file to read.txt\", \"rt\")\n",
    "\n",
    "for line in f:\n",
    "    print(line, end=\"\")"
   ]
  },
  {
   "cell_type": "code",
   "execution_count": 17,
   "id": "df817769-1c07-4dca-9fef-b34ab7c90adc",
   "metadata": {},
   "outputs": [
    {
     "name": "stdout",
     "output_type": "stream",
     "text": [
      "Anand is a very good boy\n",
      "\n",
      "Anand will be a Billionaire in near future\n",
      "\n",
      "Anand will help Bharat to become a very great nation\n",
      "\n"
     ]
    }
   ],
   "source": [
    "# for readline function \n",
    "\n",
    "f = open(\"file to read.txt\", \"rt\")\n",
    "\n",
    "print(f.readline())\n",
    "print(f.readline())\n",
    "print(f.readline())\n",
    "print(f.readline())"
   ]
  },
  {
   "cell_type": "code",
   "execution_count": 18,
   "id": "18ff56fa-ae19-4872-9366-77287da77ef9",
   "metadata": {},
   "outputs": [
    {
     "name": "stdout",
     "output_type": "stream",
     "text": [
      "['Anand is a very good boy\\n', 'Anand will be a Billionaire in near future\\n', 'Anand will help Bharat to become a very great nation']\n"
     ]
    }
   ],
   "source": [
    "# for storing these lines under set=> we will use radlines() function\n",
    "\n",
    "f = open(\"file to read.txt\", \"rt\")\n",
    "\n",
    "print(f.readlines())\n"
   ]
  },
  {
   "cell_type": "code",
   "execution_count": null,
   "id": "50b3bee3-6e5a-4060-a4ce-a13a03b4e1c2",
   "metadata": {},
   "outputs": [],
   "source": []
  }
 ],
 "metadata": {
  "kernelspec": {
   "display_name": "Python 3 (ipykernel)",
   "language": "python",
   "name": "python3"
  },
  "language_info": {
   "codemirror_mode": {
    "name": "ipython",
    "version": 3
   },
   "file_extension": ".py",
   "mimetype": "text/x-python",
   "name": "python",
   "nbconvert_exporter": "python",
   "pygments_lexer": "ipython3",
   "version": "3.10.8"
  }
 },
 "nbformat": 4,
 "nbformat_minor": 5
}
