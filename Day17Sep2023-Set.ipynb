{
 "cells": [
  {
   "cell_type": "markdown",
   "id": "2e724fc0-609a-4039-8219-076675090adc",
   "metadata": {},
   "source": [
    "# Set in Python"
   ]
  },
  {
   "cell_type": "code",
   "execution_count": 1,
   "id": "92d466f9-9b30-4fed-a376-5397458f86c7",
   "metadata": {},
   "outputs": [],
   "source": [
    "s = set()"
   ]
  },
  {
   "cell_type": "code",
   "execution_count": 2,
   "id": "e0afada3-74d0-4856-8c8f-6e1d2726b444",
   "metadata": {},
   "outputs": [],
   "source": [
    "l = [1,2,3,4,5]"
   ]
  },
  {
   "cell_type": "code",
   "execution_count": 5,
   "id": "ca26f0eb-02a4-4f3d-9dd7-aa46003dc8dd",
   "metadata": {},
   "outputs": [],
   "source": [
    "s = set(l)"
   ]
  },
  {
   "cell_type": "code",
   "execution_count": 6,
   "id": "79f55180-5a68-4207-8338-6a976ff7a2ae",
   "metadata": {},
   "outputs": [
    {
     "data": {
      "text/plain": [
       "{1, 2, 3, 4, 5}"
      ]
     },
     "execution_count": 6,
     "metadata": {},
     "output_type": "execute_result"
    }
   ],
   "source": [
    "s"
   ]
  },
  {
   "cell_type": "code",
   "execution_count": 11,
   "id": "4cb11e3a-84ec-4966-be66-a9f9b79acd43",
   "metadata": {},
   "outputs": [],
   "source": [
    "s1 = set([1,2,3,4,5])"
   ]
  },
  {
   "cell_type": "code",
   "execution_count": 12,
   "id": "4a13935f-7808-490a-acaf-823b9d9d6494",
   "metadata": {},
   "outputs": [],
   "source": [
    "s1.add(1)"
   ]
  },
  {
   "cell_type": "code",
   "execution_count": 13,
   "id": "46404235-f704-4d24-a544-f58b4c01e9b3",
   "metadata": {},
   "outputs": [],
   "source": [
    "s1.add(6)"
   ]
  },
  {
   "cell_type": "code",
   "execution_count": 14,
   "id": "808b9050-ab87-4b89-ae0d-c0c2ed84e291",
   "metadata": {},
   "outputs": [],
   "source": [
    "s1.add(7)"
   ]
  },
  {
   "cell_type": "code",
   "execution_count": 15,
   "id": "5f0a3417-0a58-4ec1-9de2-18aeaa3b5767",
   "metadata": {},
   "outputs": [],
   "source": [
    "s1.add(8)"
   ]
  },
  {
   "cell_type": "code",
   "execution_count": 16,
   "id": "a4eb20f8-c38e-4736-9236-2043f1499250",
   "metadata": {},
   "outputs": [],
   "source": [
    "s1.add(9)"
   ]
  },
  {
   "cell_type": "code",
   "execution_count": 17,
   "id": "8016ad51-f1b7-439f-8ee7-299dd3dc536f",
   "metadata": {},
   "outputs": [
    {
     "data": {
      "text/plain": [
       "{1, 2, 3, 4, 5, 6, 7, 8, 9}"
      ]
     },
     "execution_count": 17,
     "metadata": {},
     "output_type": "execute_result"
    }
   ],
   "source": [
    "s1"
   ]
  },
  {
   "cell_type": "code",
   "execution_count": 18,
   "id": "9d43ccb9-1021-4c2c-88cf-318d25609d6d",
   "metadata": {},
   "outputs": [],
   "source": [
    "# Initiall s1 does have value 1 and in next row i have tried to add 1 once more but in final result we can see that s1 does have single 1 => Set contains only unique values"
   ]
  },
  {
   "cell_type": "code",
   "execution_count": 21,
   "id": "0fb55a32-526a-4bea-bcfd-eea9636da00c",
   "metadata": {},
   "outputs": [],
   "source": [
    "s2 = s1.union([2,3,4,10,11,12,13])"
   ]
  },
  {
   "cell_type": "code",
   "execution_count": 22,
   "id": "f00f0861-c41f-419d-a8d8-8b72d8ddd460",
   "metadata": {},
   "outputs": [
    {
     "data": {
      "text/plain": [
       "{1, 2, 3, 4, 5, 6, 7, 8, 9}"
      ]
     },
     "execution_count": 22,
     "metadata": {},
     "output_type": "execute_result"
    }
   ],
   "source": [
    "s1"
   ]
  },
  {
   "cell_type": "code",
   "execution_count": 23,
   "id": "4d197ffc-07c5-48b5-815a-8bbc7f53be5d",
   "metadata": {},
   "outputs": [
    {
     "data": {
      "text/plain": [
       "{1, 2, 3, 4, 5, 6, 7, 8, 9, 10, 11, 12, 13}"
      ]
     },
     "execution_count": 23,
     "metadata": {},
     "output_type": "execute_result"
    }
   ],
   "source": [
    "s2"
   ]
  },
  {
   "cell_type": "code",
   "execution_count": 24,
   "id": "014fbbf6-ef86-4200-b642-48b1c2d00c0d",
   "metadata": {},
   "outputs": [],
   "source": [
    "# Set stored unique values only that's why s2 after union only contains unique element "
   ]
  },
  {
   "cell_type": "code",
   "execution_count": 25,
   "id": "221259f3-e637-4fe4-af91-f08912b865b4",
   "metadata": {},
   "outputs": [],
   "source": [
    "# Set is used mainly in place when unique value is required "
   ]
  },
  {
   "cell_type": "markdown",
   "id": "b49f5cd5-011d-4e5e-a6a0-5ded466aa72e",
   "metadata": {},
   "source": [
    "# Lect 13 completed about Set "
   ]
  },
  {
   "cell_type": "code",
   "execution_count": null,
   "id": "03e91523-9812-4bf6-bdc3-8b08b473806b",
   "metadata": {},
   "outputs": [],
   "source": []
  }
 ],
 "metadata": {
  "kernelspec": {
   "display_name": "Python 3 (ipykernel)",
   "language": "python",
   "name": "python3"
  },
  "language_info": {
   "codemirror_mode": {
    "name": "ipython",
    "version": 3
   },
   "file_extension": ".py",
   "mimetype": "text/x-python",
   "name": "python",
   "nbconvert_exporter": "python",
   "pygments_lexer": "ipython3",
   "version": "3.10.8"
  }
 },
 "nbformat": 4,
 "nbformat_minor": 5
}
