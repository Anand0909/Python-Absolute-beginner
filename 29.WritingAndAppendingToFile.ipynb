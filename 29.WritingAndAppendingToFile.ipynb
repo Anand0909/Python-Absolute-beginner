{
 "cells": [
  {
   "cell_type": "code",
   "execution_count": 9,
   "id": "79a4c1a8-d54f-4ecf-b91b-b04d5e6e3bf9",
   "metadata": {},
   "outputs": [],
   "source": [
    "# here we will try to write a file \"w\""
   ]
  },
  {
   "cell_type": "code",
   "execution_count": 10,
   "id": "b70b5d1d-768c-461b-9fdf-533087bda06e",
   "metadata": {},
   "outputs": [],
   "source": [
    "f = open(\"Anand2.txt\", \"w\")\n",
    "f.write(\"Anand bhut shi insan hai\")\n",
    "f.close()"
   ]
  },
  {
   "cell_type": "code",
   "execution_count": 23,
   "id": "3c2ff723-0f28-4912-9143-3bf77bfc688a",
   "metadata": {},
   "outputs": [],
   "source": [
    "# To append in exsisting file \"a\"\n",
    "# for new line type back slash with n => \\n"
   ]
  },
  {
   "cell_type": "code",
   "execution_count": 24,
   "id": "6271d438-05d3-4f3c-965a-75cea51d21c6",
   "metadata": {},
   "outputs": [],
   "source": [
    "f = open(\"Anand2.txt\", \"a\")\n",
    "f.write(\"Harry is a very good person who is teaching python to us.\\n\")\n",
    "f.close()"
   ]
  },
  {
   "cell_type": "code",
   "execution_count": 25,
   "id": "08914e62-3ac7-4a46-adc8-105961e576c2",
   "metadata": {},
   "outputs": [
    {
     "name": "stdout",
     "output_type": "stream",
     "text": [
      "58\n"
     ]
    }
   ],
   "source": [
    "f = open(\"Anand2.txt\", \"a\")\n",
    "a = f.write(\"Harry is a very good person who is teaching python to us.\\n\")\n",
    "print(a)\n",
    "f.close()"
   ]
  },
  {
   "cell_type": "code",
   "execution_count": 26,
   "id": "d4919d70-2a72-4b70-af47-37a0501b2061",
   "metadata": {},
   "outputs": [
    {
     "name": "stdout",
     "output_type": "stream",
     "text": [
      "58\n"
     ]
    }
   ],
   "source": [
    "f = open(\"Anand2.txt\", \"w\")\n",
    "a = f.write(\"Harry is a very good person who is teaching python to us.\\n\")\n",
    "print(a)\n",
    "f.close()"
   ]
  },
  {
   "cell_type": "code",
   "execution_count": 35,
   "id": "1e2f3dfa-3c39-48e8-ba7f-8811174d64bd",
   "metadata": {},
   "outputs": [],
   "source": [
    "# while we open any file in write mode then after open it erase all the other thing in file any updte only give comment with write function"
   ]
  },
  {
   "cell_type": "code",
   "execution_count": 36,
   "id": "693d9c40-f673-4dd4-b379-76f30ba7db78",
   "metadata": {},
   "outputs": [],
   "source": [
    "# to open any file in read and write function both => \"r+\""
   ]
  },
  {
   "cell_type": "code",
   "execution_count": 37,
   "id": "5756ebcd-f35e-429c-8eff-2d81a59a98a5",
   "metadata": {},
   "outputs": [
    {
     "name": "stdout",
     "output_type": "stream",
     "text": [
      "Harry is a very good person who is teaching python to us.\n",
      "Thank You Harry BhaiThank You Harry Bhai for al your efforts\n"
     ]
    },
    {
     "data": {
      "text/plain": [
       "20"
      ]
     },
     "execution_count": 37,
     "metadata": {},
     "output_type": "execute_result"
    }
   ],
   "source": [
    "f = open(\"Anand2.txt\", \"r+\")\n",
    "print(f.read())\n",
    "f.write(\"Thank You Harry Bhai\")"
   ]
  },
  {
   "cell_type": "code",
   "execution_count": null,
   "id": "6aa666cd-863b-4491-a704-ff30ceebfed7",
   "metadata": {},
   "outputs": [],
   "source": []
  }
 ],
 "metadata": {
  "kernelspec": {
   "display_name": "Python 3 (ipykernel)",
   "language": "python",
   "name": "python3"
  },
  "language_info": {
   "codemirror_mode": {
    "name": "ipython",
    "version": 3
   },
   "file_extension": ".py",
   "mimetype": "text/x-python",
   "name": "python",
   "nbconvert_exporter": "python",
   "pygments_lexer": "ipython3",
   "version": "3.10.8"
  }
 },
 "nbformat": 4,
 "nbformat_minor": 5
}
