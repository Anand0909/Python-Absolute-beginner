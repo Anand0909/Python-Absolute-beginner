{
 "cells": [
  {
   "cell_type": "code",
   "execution_count": 1,
   "id": "8b3f1cd7-81f3-4f0d-bd3c-d2335e729b5e",
   "metadata": {},
   "outputs": [],
   "source": [
    "# #Exercise :\n",
    "\n",
    "# 1.Take input of number (number of lines) for printing star \n",
    "# 2.Take Boolean input => If True then print star in ascending order, if False then print in descending order\n"
   ]
  },
  {
   "cell_type": "code",
   "execution_count": 19,
   "id": "29f4f1e4-df5e-4f18-b11f-f40bced01c59",
   "metadata": {},
   "outputs": [
    {
     "name": "stdin",
     "output_type": "stream",
     "text": [
      "Please enter number of lines of Star , you wanted to print 4\n",
      "If ascending pattern is required then Select 1 and if descending pattern is required pls select 0 1\n"
     ]
    },
    {
     "name": "stdout",
     "output_type": "stream",
     "text": [
      "*\n",
      "**\n",
      "***\n",
      "****\n"
     ]
    }
   ],
   "source": [
    "n = int(input(\"Please enter number of lines of Star , you wanted to print\", ))\n",
    "condition = bool(int(input(\"If ascending pattern is required then Select 1 and if descending pattern is required pls select 0\", )))\n",
    "\n",
    "if condition == True:\n",
    "    for i in range(1,n+1):\n",
    "            print(\"*\"*i)\n",
    "elif condition == False:\n",
    "    for i in range(n,0,-1):\n",
    "            print(\"*\"*i)"
   ]
  },
  {
   "cell_type": "code",
   "execution_count": 19,
   "id": "233eb8fa-1b9b-47f9-b1cf-02125bf844a3",
   "metadata": {},
   "outputs": [
    {
     "name": "stdin",
     "output_type": "stream",
     "text": [
      "Please enter number of lines of Star , you wanted to print 4\n",
      "If ascending pattern is required then Select 1 and if descending pattern is required pls select 0 1\n"
     ]
    },
    {
     "name": "stdout",
     "output_type": "stream",
     "text": [
      "*\n",
      "**\n",
      "***\n",
      "****\n"
     ]
    }
   ],
   "source": [
    "n = int(input(\"Please enter number of lines of Star , you wanted to print\", ))\n",
    "condition = bool(int(input(\"If ascending pattern is required then Select 1 and if descending pattern is required pls select 0\", )))\n",
    "\n",
    "if condition == True:\n",
    "    for i in range(1,n+1):\n",
    "            print(\"*\"*i)\n",
    "elif condition == False:\n",
    "    for i in range(n,0,-1):\n",
    "            print(\"*\"*i)"
   ]
  },
  {
   "cell_type": "code",
   "execution_count": null,
   "id": "14194622-667c-472d-81c0-bfb9201eb81c",
   "metadata": {},
   "outputs": [],
   "source": []
  }
 ],
 "metadata": {
  "kernelspec": {
   "display_name": "Python 3 (ipykernel)",
   "language": "python",
   "name": "python3"
  },
  "language_info": {
   "codemirror_mode": {
    "name": "ipython",
    "version": 3
   },
   "file_extension": ".py",
   "mimetype": "text/x-python",
   "name": "python",
   "nbconvert_exporter": "python",
   "pygments_lexer": "ipython3",
   "version": "3.10.8"
  }
 },
 "nbformat": 4,
 "nbformat_minor": 5
}
