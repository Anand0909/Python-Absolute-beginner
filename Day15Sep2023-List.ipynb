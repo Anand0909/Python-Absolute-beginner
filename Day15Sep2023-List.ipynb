{
 "cells": [
  {
   "cell_type": "code",
   "execution_count": 1,
   "id": "f8bf8f90-b6ca-4926-9938-2e9fc255ab32",
   "metadata": {},
   "outputs": [],
   "source": [
    "numbers = [2,4,7,3,11,9,234]"
   ]
  },
  {
   "cell_type": "code",
   "execution_count": 2,
   "id": "276c5228-cbe5-47f7-b08b-f0cbe6355b1d",
   "metadata": {},
   "outputs": [
    {
     "data": {
      "text/plain": [
       "[2, 4, 7, 3, 11, 9, 234]"
      ]
     },
     "execution_count": 2,
     "metadata": {},
     "output_type": "execute_result"
    }
   ],
   "source": [
    "numbers"
   ]
  },
  {
   "cell_type": "code",
   "execution_count": 3,
   "id": "790f4f2b-200d-4c39-8777-29703e866ae0",
   "metadata": {},
   "outputs": [],
   "source": [
    "#Sorting of list\n",
    "numbers.sort()"
   ]
  },
  {
   "cell_type": "code",
   "execution_count": 7,
   "id": "daf7e394-201f-4e70-b18d-a202b535bd31",
   "metadata": {},
   "outputs": [
    {
     "data": {
      "text/plain": [
       "[234, 11, 9, 7, 4, 3, 2]"
      ]
     },
     "execution_count": 7,
     "metadata": {},
     "output_type": "execute_result"
    }
   ],
   "source": [
    "numbers"
   ]
  },
  {
   "cell_type": "code",
   "execution_count": 11,
   "id": "6580faf0-aa88-4604-b839-a17c16987abf",
   "metadata": {},
   "outputs": [],
   "source": [
    "#reversing the list\n",
    "numbers.reverse()"
   ]
  },
  {
   "cell_type": "code",
   "execution_count": 12,
   "id": "51c1117e-c063-45cd-8296-014957b7e9b3",
   "metadata": {},
   "outputs": [
    {
     "data": {
      "text/plain": [
       "[2, 3, 4, 7, 9, 11, 234]"
      ]
     },
     "execution_count": 12,
     "metadata": {},
     "output_type": "execute_result"
    }
   ],
   "source": [
    "numbers"
   ]
  },
  {
   "cell_type": "code",
   "execution_count": 13,
   "id": "a2af389a-40d7-4b23-bb6e-8808c02d5d9f",
   "metadata": {},
   "outputs": [
    {
     "data": {
      "text/plain": [
       "[3, 4, 7]"
      ]
     },
     "execution_count": 13,
     "metadata": {},
     "output_type": "execute_result"
    }
   ],
   "source": [
    "# Slicing\n",
    "numbers[1:4]"
   ]
  },
  {
   "cell_type": "code",
   "execution_count": 14,
   "id": "a379802f-b69f-41af-b851-ce910d6f90c7",
   "metadata": {},
   "outputs": [
    {
     "data": {
      "text/plain": [
       "[2, 4, 9, 234]"
      ]
     },
     "execution_count": 14,
     "metadata": {},
     "output_type": "execute_result"
    }
   ],
   "source": [
    "# extended slicing\n",
    "\n",
    "numbers[::2]"
   ]
  },
  {
   "cell_type": "code",
   "execution_count": 15,
   "id": "07bbce50-8ba8-4805-a97e-f7816c1f4728",
   "metadata": {},
   "outputs": [
    {
     "data": {
      "text/plain": [
       "[3, 7, 11]"
      ]
     },
     "execution_count": 15,
     "metadata": {},
     "output_type": "execute_result"
    }
   ],
   "source": [
    "numbers[1::2]"
   ]
  },
  {
   "cell_type": "code",
   "execution_count": 17,
   "id": "78d86715-d4a4-40f3-9ad0-e2cbc9e4f9a2",
   "metadata": {},
   "outputs": [
    {
     "data": {
      "text/plain": [
       "[234, 11, 9, 7, 4, 3, 2]"
      ]
     },
     "execution_count": 17,
     "metadata": {},
     "output_type": "execute_result"
    }
   ],
   "source": [
    "# while jump value is -1 then it will reverse the exsisting list\n",
    "numbers[::-1]"
   ]
  },
  {
   "cell_type": "code",
   "execution_count": 21,
   "id": "08a11b60-22b7-427d-9107-692f7b9c551c",
   "metadata": {},
   "outputs": [
    {
     "data": {
      "text/plain": [
       "[2, 3, 4, 7, 9, 11, 234]"
      ]
     },
     "execution_count": 21,
     "metadata": {},
     "output_type": "execute_result"
    }
   ],
   "source": [
    "numbers"
   ]
  },
  {
   "cell_type": "code",
   "execution_count": 23,
   "id": "2eb82bd8-0b0f-4e10-b9dc-96e616a60824",
   "metadata": {},
   "outputs": [
    {
     "data": {
      "text/plain": [
       "[234, 9, 4, 2]"
      ]
     },
     "execution_count": 23,
     "metadata": {},
     "output_type": "execute_result"
    }
   ],
   "source": [
    "numbers[::-2]"
   ]
  },
  {
   "cell_type": "code",
   "execution_count": 24,
   "id": "7d03b905-73dc-468b-84f9-6d7f73454c4c",
   "metadata": {},
   "outputs": [],
   "source": [
    "# append() => To add anything in last"
   ]
  },
  {
   "cell_type": "code",
   "execution_count": 25,
   "id": "9189ca32-7122-4d44-82d3-b7bb9783ff9d",
   "metadata": {},
   "outputs": [],
   "source": [
    "numbers.append(716)"
   ]
  },
  {
   "cell_type": "code",
   "execution_count": 26,
   "id": "e16de83c-da6a-4c84-bce6-6dea61d2474e",
   "metadata": {},
   "outputs": [
    {
     "data": {
      "text/plain": [
       "[2, 3, 4, 7, 9, 11, 234, 716]"
      ]
     },
     "execution_count": 26,
     "metadata": {},
     "output_type": "execute_result"
    }
   ],
   "source": [
    "numbers"
   ]
  },
  {
   "cell_type": "code",
   "execution_count": 27,
   "id": "87613f63-0759-44ff-bfe4-3f7053b23f58",
   "metadata": {},
   "outputs": [],
   "source": [
    "numbers.append(89)"
   ]
  },
  {
   "cell_type": "code",
   "execution_count": 28,
   "id": "14307a0a-2ffe-48aa-a792-c4d257c29e36",
   "metadata": {},
   "outputs": [
    {
     "data": {
      "text/plain": [
       "[2, 3, 4, 7, 9, 11, 234, 716, 89]"
      ]
     },
     "execution_count": 28,
     "metadata": {},
     "output_type": "execute_result"
    }
   ],
   "source": [
    "numbers"
   ]
  },
  {
   "cell_type": "code",
   "execution_count": 30,
   "id": "1150c574-cb65-4c89-884c-73d7805b9669",
   "metadata": {},
   "outputs": [],
   "source": [
    "# if we want to add anything at any specific position then we have to use inset(index,object,/) function"
   ]
  },
  {
   "cell_type": "code",
   "execution_count": 31,
   "id": "14ef2e45-fb0f-498e-bfaf-706c33d4f7fd",
   "metadata": {},
   "outputs": [],
   "source": [
    "numbers.insert(2,16)"
   ]
  },
  {
   "cell_type": "code",
   "execution_count": 32,
   "id": "d8ee4fb8-184c-4ad8-9e8b-39a8186c4696",
   "metadata": {},
   "outputs": [
    {
     "data": {
      "text/plain": [
       "[2, 3, 16, 4, 7, 9, 11, 234, 716, 89]"
      ]
     },
     "execution_count": 32,
     "metadata": {},
     "output_type": "execute_result"
    }
   ],
   "source": [
    "numbers"
   ]
  },
  {
   "cell_type": "code",
   "execution_count": 34,
   "id": "f90a8ced-251a-4819-b655-7528be49f353",
   "metadata": {},
   "outputs": [],
   "source": [
    "# to remove any element => Here element value should be given not the index position \n",
    "\n",
    "numbers.remove(16)"
   ]
  },
  {
   "cell_type": "code",
   "execution_count": 35,
   "id": "5b148280-457b-4c34-a9bd-ff52d8d39202",
   "metadata": {},
   "outputs": [
    {
     "data": {
      "text/plain": [
       "[2, 3, 4, 7, 9, 11, 234, 716, 89]"
      ]
     },
     "execution_count": 35,
     "metadata": {},
     "output_type": "execute_result"
    }
   ],
   "source": [
    "numbers"
   ]
  },
  {
   "cell_type": "code",
   "execution_count": 36,
   "id": "0d2bdf18-7c2e-4bf1-8fe0-9a143942e64f",
   "metadata": {},
   "outputs": [],
   "source": [
    "# pop(index) => this function use to remove and return default index -1 position element ,\n",
    "# but in case if we will give the index value then pop() function will remove and return the elememnt at given position "
   ]
  },
  {
   "cell_type": "code",
   "execution_count": 37,
   "id": "9cfd0a2c-b50f-47d4-aa92-d6026d6f78b3",
   "metadata": {},
   "outputs": [
    {
     "data": {
      "text/plain": [
       "89"
      ]
     },
     "execution_count": 37,
     "metadata": {},
     "output_type": "execute_result"
    }
   ],
   "source": [
    "numbers.pop()"
   ]
  },
  {
   "cell_type": "code",
   "execution_count": 38,
   "id": "78073ad7-5ae0-42d9-afe3-efdf4630b922",
   "metadata": {},
   "outputs": [
    {
     "data": {
      "text/plain": [
       "[2, 3, 4, 7, 9, 11, 234, 716]"
      ]
     },
     "execution_count": 38,
     "metadata": {},
     "output_type": "execute_result"
    }
   ],
   "source": [
    "numbers"
   ]
  },
  {
   "cell_type": "code",
   "execution_count": 39,
   "id": "5dbf9b9c-02fa-4c56-bbff-218ef3e7b5a1",
   "metadata": {},
   "outputs": [
    {
     "data": {
      "text/plain": [
       "3"
      ]
     },
     "execution_count": 39,
     "metadata": {},
     "output_type": "execute_result"
    }
   ],
   "source": [
    "numbers.pop(1)"
   ]
  },
  {
   "cell_type": "code",
   "execution_count": 40,
   "id": "e9322ff5-c839-4c7c-8942-a4fa322a261f",
   "metadata": {},
   "outputs": [
    {
     "data": {
      "text/plain": [
       "[2, 4, 7, 9, 11, 234, 716]"
      ]
     },
     "execution_count": 40,
     "metadata": {},
     "output_type": "execute_result"
    }
   ],
   "source": [
    "numbers"
   ]
  },
  {
   "cell_type": "code",
   "execution_count": 41,
   "id": "efbbff66-b51a-43d5-84be-66ad6a54eb19",
   "metadata": {},
   "outputs": [],
   "source": [
    "# Mutable - Can Change\n",
    "# Immutable - Can not change\n",
    "\n",
    "# Note List is mutable but Tuple is Immutable"
   ]
  },
  {
   "cell_type": "code",
   "execution_count": 43,
   "id": "d37540a8-3f2e-4fc4-94c9-4532576e9c6d",
   "metadata": {},
   "outputs": [],
   "source": [
    "# [] = Square Bracket\n",
    "# {} = Curly Bracket\n",
    "# () = Paranthsis"
   ]
  },
  {
   "cell_type": "code",
   "execution_count": 44,
   "id": "c0b07e72-bbed-4be4-9b7a-37ee8f456aea",
   "metadata": {},
   "outputs": [],
   "source": [
    "# List is stored in sqare bracket \n",
    "# Tuple is stored under paranthesis\n",
    "# Dictionary stored in curly bracket"
   ]
  },
  {
   "cell_type": "code",
   "execution_count": 45,
   "id": "73b6f7c3-9479-445b-8560-39996ab96c01",
   "metadata": {},
   "outputs": [],
   "source": [
    "tp = (1,2,3,4,5)\n",
    "ls = [1,2,3,4,5]\n",
    "\n",
    "# Here tp is an Tuple & ls is a list"
   ]
  },
  {
   "cell_type": "code",
   "execution_count": 46,
   "id": "88c7bfc4-2bd1-4b15-8674-c56fa37a4256",
   "metadata": {},
   "outputs": [
    {
     "ename": "TypeError",
     "evalue": "'tuple' object does not support item assignment",
     "output_type": "error",
     "traceback": [
      "\u001b[0;31m---------------------------------------------------------------------------\u001b[0m",
      "\u001b[0;31mTypeError\u001b[0m                                 Traceback (most recent call last)",
      "Cell \u001b[0;32mIn[46], line 3\u001b[0m\n\u001b[1;32m      1\u001b[0m \u001b[38;5;66;03m# Mutability test\u001b[39;00m\n\u001b[0;32m----> 3\u001b[0m \u001b[43mtp\u001b[49m\u001b[43m \u001b[49m\u001b[43m[\u001b[49m\u001b[38;5;241;43m1\u001b[39;49m\u001b[43m]\u001b[49m \u001b[38;5;241m=\u001b[39m \u001b[38;5;241m6\u001b[39m\n",
      "\u001b[0;31mTypeError\u001b[0m: 'tuple' object does not support item assignment"
     ]
    }
   ],
   "source": [
    "# Mutability test of Tuple \n",
    "\n",
    "tp [1] = 6"
   ]
  },
  {
   "cell_type": "code",
   "execution_count": 47,
   "id": "1aa3b083-9b4a-40b1-98af-eabd01310461",
   "metadata": {},
   "outputs": [],
   "source": [
    "# It shows that we can't change value inside a Tuple => Tuple is Immutable "
   ]
  },
  {
   "cell_type": "code",
   "execution_count": 48,
   "id": "af23065a-8eb1-444a-a9cb-fc84238d276a",
   "metadata": {},
   "outputs": [],
   "source": [
    "# Mutability test of List \n",
    "\n",
    "ls [1] = 6"
   ]
  },
  {
   "cell_type": "code",
   "execution_count": 49,
   "id": "3fa06269-c136-4f5b-aa1a-8e8b36d6c7de",
   "metadata": {},
   "outputs": [
    {
     "data": {
      "text/plain": [
       "[1, 6, 3, 4, 5]"
      ]
     },
     "execution_count": 49,
     "metadata": {},
     "output_type": "execute_result"
    }
   ],
   "source": [
    "ls"
   ]
  },
  {
   "cell_type": "code",
   "execution_count": 50,
   "id": "e968fcfb-b9e9-41b2-882a-ef291192ab95",
   "metadata": {},
   "outputs": [],
   "source": [
    "# Here value of list at index position 1 is changed from 2 to 6 => List is Mutable "
   ]
  },
  {
   "cell_type": "code",
   "execution_count": 1,
   "id": "109d6222-20b1-4fdd-a433-0617b6483e9d",
   "metadata": {},
   "outputs": [],
   "source": [
    "# In case of Tuple if there is single element then put it inside parenthesis with an additonal comma (,) becasue if you don't put that then Pythin will consider it as single element not tuple"
   ]
  },
  {
   "cell_type": "code",
   "execution_count": 2,
   "id": "18bf4264-76df-43c8-a270-67128cf2fb1d",
   "metadata": {},
   "outputs": [],
   "source": [
    "tp1 = (1)"
   ]
  },
  {
   "cell_type": "code",
   "execution_count": 4,
   "id": "146303e2-f3a7-4d81-a1b5-7b2c4660a4ba",
   "metadata": {},
   "outputs": [
    {
     "data": {
      "text/plain": [
       "1"
      ]
     },
     "execution_count": 4,
     "metadata": {},
     "output_type": "execute_result"
    }
   ],
   "source": [
    "tp1"
   ]
  },
  {
   "cell_type": "code",
   "execution_count": 5,
   "id": "abbe4fc3-ae2f-4f36-b34e-7afaba9227f8",
   "metadata": {},
   "outputs": [
    {
     "data": {
      "text/plain": [
       "int"
      ]
     },
     "execution_count": 5,
     "metadata": {},
     "output_type": "execute_result"
    }
   ],
   "source": [
    "type(tp1)"
   ]
  },
  {
   "cell_type": "code",
   "execution_count": 6,
   "id": "b58c6624-e86e-4450-b5c5-e416aedf4f12",
   "metadata": {},
   "outputs": [],
   "source": [
    "tp2 = (1,)"
   ]
  },
  {
   "cell_type": "code",
   "execution_count": 7,
   "id": "9c5799ea-ed47-4ca4-a2bb-97d522271cb9",
   "metadata": {},
   "outputs": [
    {
     "data": {
      "text/plain": [
       "(1,)"
      ]
     },
     "execution_count": 7,
     "metadata": {},
     "output_type": "execute_result"
    }
   ],
   "source": [
    "tp2"
   ]
  },
  {
   "cell_type": "code",
   "execution_count": 8,
   "id": "c63c69b5-2ebd-473c-82d9-ea504d377d2c",
   "metadata": {},
   "outputs": [
    {
     "data": {
      "text/plain": [
       "tuple"
      ]
     },
     "execution_count": 8,
     "metadata": {},
     "output_type": "execute_result"
    }
   ],
   "source": [
    "type(tp2)"
   ]
  },
  {
   "cell_type": "code",
   "execution_count": 9,
   "id": "3aa8176e-9f65-436c-afc6-a65e0d4c1559",
   "metadata": {},
   "outputs": [],
   "source": [
    "# to interchange the values in python"
   ]
  },
  {
   "cell_type": "code",
   "execution_count": 10,
   "id": "818d010b-10d9-45d2-b6ba-e5d6aacea9d1",
   "metadata": {},
   "outputs": [],
   "source": [
    "a = 2\n",
    "\n",
    "b = 8"
   ]
  },
  {
   "cell_type": "code",
   "execution_count": 11,
   "id": "10ef6a9c-690e-4ae9-ba3d-787f821d0102",
   "metadata": {},
   "outputs": [],
   "source": [
    "a,b = b,a"
   ]
  },
  {
   "cell_type": "code",
   "execution_count": 12,
   "id": "d2f72a4b-666f-4d65-82ff-d92e9ad45652",
   "metadata": {},
   "outputs": [
    {
     "data": {
      "text/plain": [
       "8"
      ]
     },
     "execution_count": 12,
     "metadata": {},
     "output_type": "execute_result"
    }
   ],
   "source": [
    "a"
   ]
  },
  {
   "cell_type": "code",
   "execution_count": 13,
   "id": "99e0530f-12b1-443f-bfa4-e8c97ff1bf73",
   "metadata": {},
   "outputs": [
    {
     "data": {
      "text/plain": [
       "2"
      ]
     },
     "execution_count": 13,
     "metadata": {},
     "output_type": "execute_result"
    }
   ],
   "source": [
    "b"
   ]
  },
  {
   "cell_type": "code",
   "execution_count": 15,
   "id": "a388fcc8-13cc-4b53-8201-42de653baf0b",
   "metadata": {},
   "outputs": [],
   "source": [
    "# important function of list \n",
    "\n",
    "ls = [23,34,45,54,21,99,0,792,11,5]"
   ]
  },
  {
   "cell_type": "code",
   "execution_count": 17,
   "id": "dc2ebb93-eeb1-4b28-9ac5-769c711f496c",
   "metadata": {},
   "outputs": [],
   "source": [
    "# append(element) => Add a single element to the end of the list\n",
    "\n",
    "ls.append(543)"
   ]
  },
  {
   "cell_type": "code",
   "execution_count": 18,
   "id": "e8ca1ac8-497b-4196-a6c0-5ada83f165e3",
   "metadata": {},
   "outputs": [
    {
     "data": {
      "text/plain": [
       "[23, 34, 45, 54, 21, 99, 0, 792, 11, 5, 543]"
      ]
     },
     "execution_count": 18,
     "metadata": {},
     "output_type": "execute_result"
    }
   ],
   "source": [
    "ls"
   ]
  },
  {
   "cell_type": "code",
   "execution_count": 19,
   "id": "0aafb423-02f5-463c-8475-f31058cbad47",
   "metadata": {},
   "outputs": [],
   "source": [
    "# clear() => remove all items from the list\n",
    "\n",
    "ls.clear()"
   ]
  },
  {
   "cell_type": "code",
   "execution_count": 20,
   "id": "718fb336-d414-48c3-a1ff-36fe225692e4",
   "metadata": {},
   "outputs": [
    {
     "data": {
      "text/plain": [
       "[]"
      ]
     },
     "execution_count": 20,
     "metadata": {},
     "output_type": "execute_result"
    }
   ],
   "source": [
    "ls"
   ]
  },
  {
   "cell_type": "code",
   "execution_count": 21,
   "id": "3f0fc27c-7bc0-47af-8853-74c4f8b6b38c",
   "metadata": {},
   "outputs": [
    {
     "data": {
      "text/plain": [
       "[23, 34, 45, 54, 21, 99, 0, 792, 11, 5]"
      ]
     },
     "execution_count": 21,
     "metadata": {},
     "output_type": "execute_result"
    }
   ],
   "source": [
    "# copy() => Return a shallow copy of the list \n",
    "\n",
    "ls = [23,34,45,54,21,99,0,792,11,5]\n",
    "\n",
    "ls.copy()"
   ]
  },
  {
   "cell_type": "code",
   "execution_count": 37,
   "id": "0d4bf9e8-f48a-4810-9fc1-934b5d4cc270",
   "metadata": {},
   "outputs": [
    {
     "data": {
      "text/plain": [
       "1"
      ]
     },
     "execution_count": 37,
     "metadata": {},
     "output_type": "execute_result"
    }
   ],
   "source": [
    "# count(element) => returns count of the element in the list \n",
    "\n",
    "ls.count(34)"
   ]
  },
  {
   "cell_type": "code",
   "execution_count": 40,
   "id": "fa28bde6-14a4-4da5-a7dc-d3779db1d21e",
   "metadata": {},
   "outputs": [],
   "source": [
    "# extend() => adds iterable elements (list/Tuple/any itterable elemet) to the end of the list\n",
    "\n",
    "ls = [23,34,45,54,21,99,0,792,11,5]\n",
    "\n",
    "ls1 = [0,2,3,4]\n"
   ]
  },
  {
   "cell_type": "code",
   "execution_count": 41,
   "id": "895dd585-dc19-4c24-814c-0b8510b29205",
   "metadata": {},
   "outputs": [],
   "source": [
    "ls.extend(ls1)"
   ]
  },
  {
   "cell_type": "code",
   "execution_count": 42,
   "id": "344d89e9-41d2-4c79-a523-8a3b15d01907",
   "metadata": {},
   "outputs": [
    {
     "data": {
      "text/plain": [
       "[23, 34, 45, 54, 21, 99, 0, 792, 11, 5, 0, 2, 3, 4]"
      ]
     },
     "execution_count": 42,
     "metadata": {},
     "output_type": "execute_result"
    }
   ],
   "source": [
    "ls"
   ]
  },
  {
   "cell_type": "code",
   "execution_count": 43,
   "id": "c9bcda2e-a608-4e0d-9dad-48caa3e33eed",
   "metadata": {},
   "outputs": [],
   "source": [
    "# Note => List does not ensure uniqe element stored , but in Tuple we can store only unique items"
   ]
  },
  {
   "cell_type": "code",
   "execution_count": 46,
   "id": "b25ea210-1fd5-47ff-ac94-e1d3d930884c",
   "metadata": {},
   "outputs": [],
   "source": [
    "# index(element) => returns the index of the element in the list, if that element occurs more than once then it will gives index postion of fiest occurance."
   ]
  },
  {
   "cell_type": "code",
   "execution_count": 47,
   "id": "d17228a0-a926-4faf-bb21-533ab7dfe35b",
   "metadata": {},
   "outputs": [
    {
     "data": {
      "text/plain": [
       "6"
      ]
     },
     "execution_count": 47,
     "metadata": {},
     "output_type": "execute_result"
    }
   ],
   "source": [
    "ls.index(0)"
   ]
  },
  {
   "cell_type": "code",
   "execution_count": 50,
   "id": "310a1165-1144-4f2b-8cd7-2aa259f93360",
   "metadata": {},
   "outputs": [],
   "source": [
    "# insert(index,element) => To insert an element to the list\n",
    "\n",
    "ls.insert(2,9993)"
   ]
  },
  {
   "cell_type": "code",
   "execution_count": 51,
   "id": "8d5b8216-1682-47e2-87b6-21dd5ca8a8b0",
   "metadata": {},
   "outputs": [
    {
     "data": {
      "text/plain": [
       "[23, 34, 9993, 45, 54, 21, 99, 0, 792, 11, 5, 0, 2, 3, 4]"
      ]
     },
     "execution_count": 51,
     "metadata": {},
     "output_type": "execute_result"
    }
   ],
   "source": [
    "ls"
   ]
  },
  {
   "cell_type": "code",
   "execution_count": 52,
   "id": "28ca5710-298b-455b-af14-cd9881494cb9",
   "metadata": {},
   "outputs": [],
   "source": [
    "# pop(index) => Removes element at given index, in case no index given then it will remove element from default index i.e -1"
   ]
  },
  {
   "cell_type": "code",
   "execution_count": 53,
   "id": "c6a00f70-9b68-48f1-9465-8bd251d9c644",
   "metadata": {},
   "outputs": [
    {
     "data": {
      "text/plain": [
       "3"
      ]
     },
     "execution_count": 53,
     "metadata": {},
     "output_type": "execute_result"
    }
   ],
   "source": [
    "ls.pop(-2)"
   ]
  },
  {
   "cell_type": "code",
   "execution_count": 68,
   "id": "587bc440-2b31-418d-a2fd-a5458c2d209b",
   "metadata": {},
   "outputs": [
    {
     "data": {
      "text/plain": [
       "[34, 45, 54, 21, 99, 792, 11, 5, 2, 4]"
      ]
     },
     "execution_count": 68,
     "metadata": {},
     "output_type": "execute_result"
    }
   ],
   "source": [
    "ls"
   ]
  },
  {
   "cell_type": "code",
   "execution_count": 71,
   "id": "600bf23c-f828-49fe-bcc2-ce6afbe78577",
   "metadata": {},
   "outputs": [],
   "source": [
    "# remove(element) => To remove first occurance item from given list\n",
    "\n",
    "ls.remove(45)"
   ]
  },
  {
   "cell_type": "code",
   "execution_count": 72,
   "id": "e53a2f7e-5d23-4387-bf0a-7fac6773cb74",
   "metadata": {},
   "outputs": [
    {
     "data": {
      "text/plain": [
       "[34, 54, 21, 99, 792, 11, 5, 2, 4]"
      ]
     },
     "execution_count": 72,
     "metadata": {},
     "output_type": "execute_result"
    }
   ],
   "source": [
    "ls"
   ]
  },
  {
   "cell_type": "code",
   "execution_count": 73,
   "id": "6dad9f23-c161-40b8-bd85-0138a917fa87",
   "metadata": {},
   "outputs": [],
   "source": [
    "# reverse() => reverse the list\n",
    "\n",
    "ls.reverse()"
   ]
  },
  {
   "cell_type": "code",
   "execution_count": 74,
   "id": "2d527ce7-0399-4961-95cb-b9d267166e4f",
   "metadata": {},
   "outputs": [
    {
     "data": {
      "text/plain": [
       "[4, 2, 5, 11, 792, 99, 21, 54, 34]"
      ]
     },
     "execution_count": 74,
     "metadata": {},
     "output_type": "execute_result"
    }
   ],
   "source": [
    "ls"
   ]
  },
  {
   "cell_type": "code",
   "execution_count": 75,
   "id": "dfc11ac6-f519-4e04-850e-6a14dfa9664a",
   "metadata": {},
   "outputs": [],
   "source": [
    "# sort() => sorts element of the list\n",
    "\n",
    "ls.sort()"
   ]
  },
  {
   "cell_type": "code",
   "execution_count": 76,
   "id": "c386461b-cb5d-40fc-9aa6-5de4a24df1b4",
   "metadata": {},
   "outputs": [
    {
     "data": {
      "text/plain": [
       "[2, 4, 5, 11, 21, 34, 54, 99, 792]"
      ]
     },
     "execution_count": 76,
     "metadata": {},
     "output_type": "execute_result"
    }
   ],
   "source": [
    "ls"
   ]
  },
  {
   "cell_type": "markdown",
   "id": "0d1a5cda-22f7-4bc7-adc8-0531bc25d771",
   "metadata": {},
   "source": [
    "### This is end of Lecture 10 - About List"
   ]
  },
  {
   "cell_type": "code",
   "execution_count": null,
   "id": "d84c8aac-5521-48d2-8000-6428e388086b",
   "metadata": {},
   "outputs": [],
   "source": []
  }
 ],
 "metadata": {
  "kernelspec": {
   "display_name": "Python 3 (ipykernel)",
   "language": "python",
   "name": "python3"
  },
  "language_info": {
   "codemirror_mode": {
    "name": "ipython",
    "version": 3
   },
   "file_extension": ".py",
   "mimetype": "text/x-python",
   "name": "python",
   "nbconvert_exporter": "python",
   "pygments_lexer": "ipython3",
   "version": "3.10.8"
  }
 },
 "nbformat": 4,
 "nbformat_minor": 5
}
