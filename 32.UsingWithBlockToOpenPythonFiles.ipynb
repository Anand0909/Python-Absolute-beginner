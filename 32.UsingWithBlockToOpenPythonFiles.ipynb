{
 "cells": [
  {
   "cell_type": "code",
   "execution_count": 1,
   "id": "8506c444-baf3-4216-811c-974119095983",
   "metadata": {},
   "outputs": [],
   "source": [
    "# with block is capable to open and close the file by itself "
   ]
  },
  {
   "cell_type": "code",
   "execution_count": 6,
   "id": "c35a9851-9581-42f6-9bc9-190457c13c12",
   "metadata": {},
   "outputs": [
    {
     "name": "stdout",
     "output_type": "stream",
     "text": [
      "Harry is a very good \n"
     ]
    }
   ],
   "source": [
    "# f.open(\"Anand2.txt\")\n",
    "\n",
    "# f.close()\n",
    "\n",
    "\n",
    "# This above function can be done by with block in sigle line comment \n",
    "\n",
    "with open(\"Anand2.txt\") as f:\n",
    "    a=f.read(21)\n",
    "    print(a)\n",
    "\n",
    "\n"
   ]
  },
  {
   "cell_type": "code",
   "execution_count": 21,
   "id": "6a4084c1-ea73-4543-aedd-b52e9611d2e6",
   "metadata": {},
   "outputs": [
    {
     "name": "stdout",
     "output_type": "stream",
     "text": [
      "['Harry is a very good person who is teaching python to us.\\n', 'Thank You Harry BhaiThank You Harry Bhai for al your efforts'] /n\n"
     ]
    }
   ],
   "source": [
    "\n",
    "with open(\"Anand2.txt\") as f:\n",
    "    a=f.readlines()\n",
    "    print(a,'/n')\n",
    "\n",
    "\n"
   ]
  },
  {
   "cell_type": "code",
   "execution_count": 24,
   "id": "d959fcdf-8333-4d34-a9c5-852252024b40",
   "metadata": {},
   "outputs": [
    {
     "name": "stdout",
     "output_type": "stream",
     "text": [
      "['Harry is a very good person who is teaching python to us.\\n', 'Thank You Harry BhaiThank You Harry Bhai for al your efforts'] /n\n",
      "Harry is a very good person who is teaching python to us.\n",
      "\n"
     ]
    }
   ],
   "source": [
    "# if after using with block we are trying to read file with =open(file) function , in this case does it will work?\n",
    "with open(\"Anand2.txt\") as f:\n",
    "    a=f.readlines()\n",
    "    print(a,'/n')\n",
    "\n",
    "f = open(\"Anand2.txt\")\n",
    "\n",
    "print(f.readline())\n",
    "\n"
   ]
  },
  {
   "cell_type": "code",
   "execution_count": 26,
   "id": "78bb686a-d3eb-4a7e-b897-c9095b18c5b9",
   "metadata": {},
   "outputs": [],
   "source": [
    "# above example showsthat once we will be out from with block we can reopen the file using open() function\n",
    "\n",
    "# It will work because once we are out from the with block , python will rerun the given command from start"
   ]
  },
  {
   "cell_type": "code",
   "execution_count": null,
   "id": "a4a435d1-ac51-4d8c-9071-d8c136d94626",
   "metadata": {},
   "outputs": [],
   "source": []
  }
 ],
 "metadata": {
  "kernelspec": {
   "display_name": "Python 3 (ipykernel)",
   "language": "python",
   "name": "python3"
  },
  "language_info": {
   "codemirror_mode": {
    "name": "ipython",
    "version": 3
   },
   "file_extension": ".py",
   "mimetype": "text/x-python",
   "name": "python",
   "nbconvert_exporter": "python",
   "pygments_lexer": "ipython3",
   "version": "3.10.8"
  }
 },
 "nbformat": 4,
 "nbformat_minor": 5
}
