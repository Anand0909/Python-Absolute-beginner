{
 "cells": [
  {
   "cell_type": "markdown",
   "id": "b12bb7bf-c213-464c-9cc8-a429a7a94760",
   "metadata": {},
   "source": [
    "# while Loop"
   ]
  },
  {
   "cell_type": "code",
   "execution_count": 3,
   "id": "ebc0e964-face-41ff-8387-e5d37a47b659",
   "metadata": {},
   "outputs": [],
   "source": [
    "# difference beteen for loop and while loop is \n",
    "\n",
    "# For loop runs untill the iteration completed \n",
    "# While loop runs untill the given condition is true "
   ]
  },
  {
   "cell_type": "code",
   "execution_count": 4,
   "id": "ad808da3-8bce-409d-aa5f-cbb63500b8ac",
   "metadata": {},
   "outputs": [
    {
     "name": "stdout",
     "output_type": "stream",
     "text": [
      "0\n",
      "1\n",
      "2\n",
      "3\n",
      "4\n",
      "5\n",
      "6\n",
      "7\n",
      "8\n",
      "9\n"
     ]
    }
   ],
   "source": [
    "i = 0\n",
    "\n",
    "while (i<10):\n",
    "    print(i)\n",
    "    i = i+1\n"
   ]
  },
  {
   "cell_type": "code",
   "execution_count": null,
   "id": "649e2bca-c6d9-4b57-b28e-c2be4c858d39",
   "metadata": {},
   "outputs": [],
   "source": []
  }
 ],
 "metadata": {
  "kernelspec": {
   "display_name": "Python 3 (ipykernel)",
   "language": "python",
   "name": "python3"
  },
  "language_info": {
   "codemirror_mode": {
    "name": "ipython",
    "version": 3
   },
   "file_extension": ".py",
   "mimetype": "text/x-python",
   "name": "python",
   "nbconvert_exporter": "python",
   "pygments_lexer": "ipython3",
   "version": "3.10.8"
  }
 },
 "nbformat": 4,
 "nbformat_minor": 5
}
