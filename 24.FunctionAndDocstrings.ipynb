{
 "cells": [
  {
   "cell_type": "markdown",
   "id": "c468057a-c7d4-440d-92c6-7562c998798a",
   "metadata": {},
   "source": [
    "# Function and Docstring"
   ]
  },
  {
   "cell_type": "code",
   "execution_count": 16,
   "id": "ac90e47c-7c81-4b43-9fcc-019caf81c5dd",
   "metadata": {},
   "outputs": [
    {
     "ename": "TypeError",
     "evalue": "'int' object is not iterable",
     "output_type": "error",
     "traceback": [
      "\u001b[0;31m---------------------------------------------------------------------------\u001b[0m",
      "\u001b[0;31mTypeError\u001b[0m                                 Traceback (most recent call last)",
      "Cell \u001b[0;32mIn[16], line 4\u001b[0m\n\u001b[1;32m      1\u001b[0m a \u001b[38;5;241m=\u001b[39m \u001b[38;5;241m9\u001b[39m\n\u001b[1;32m      2\u001b[0m b \u001b[38;5;241m=\u001b[39m \u001b[38;5;241m8\u001b[39m\n\u001b[0;32m----> 4\u001b[0m c \u001b[38;5;241m=\u001b[39m \u001b[38;5;28;43msum\u001b[39;49m\u001b[43m \u001b[49m\u001b[43m(\u001b[49m\u001b[43ma\u001b[49m\u001b[43m,\u001b[49m\u001b[43mb\u001b[49m\u001b[43m)\u001b[49m \u001b[38;5;66;03m# Built in function \u001b[39;00m\n\u001b[1;32m      5\u001b[0m \u001b[38;5;28mprint\u001b[39m(c)\n",
      "\u001b[0;31mTypeError\u001b[0m: 'int' object is not iterable"
     ]
    }
   ],
   "source": [
    "a = 9\n",
    "b = 8\n",
    "\n",
    "c = sum (a,b) # Built in function \n",
    "print(c)"
   ]
  },
  {
   "cell_type": "code",
   "execution_count": 17,
   "id": "e7dd3290-edc0-4777-8265-e90c7457d03c",
   "metadata": {},
   "outputs": [
    {
     "name": "stdout",
     "output_type": "stream",
     "text": [
      "17\n"
     ]
    }
   ],
   "source": [
    "a = 9\n",
    "b = 8\n",
    "\n",
    "c = sum ((a,b))\n",
    "print(c)"
   ]
  },
  {
   "cell_type": "markdown",
   "id": "50f5c489-05c5-4492-97ea-7b6690685500",
   "metadata": {},
   "source": [
    "# User defined function "
   ]
  },
  {
   "cell_type": "code",
   "execution_count": 29,
   "id": "67df62e8-8189-4219-992f-226a40f4da0c",
   "metadata": {},
   "outputs": [
    {
     "name": "stdout",
     "output_type": "stream",
     "text": [
      "Hello you rae in function 1 9\n"
     ]
    }
   ],
   "source": [
    "def func1(a,b):\n",
    "    print(\"Hello you rae in function 1\" ,a+b)\n",
    "\n",
    "func1(4,5)"
   ]
  },
  {
   "cell_type": "code",
   "execution_count": 30,
   "id": "7fcfc1a3-bb05-493d-9f2b-0d7acc49e82b",
   "metadata": {},
   "outputs": [
    {
     "name": "stdout",
     "output_type": "stream",
     "text": [
      "6.0\n"
     ]
    }
   ],
   "source": [
    "def fun2(a,b):\n",
    "    \"\"\"This is a function which will calculate average of two numbers\"\"\"\n",
    "    average = (a+b)/2\n",
    "    return average\n",
    "\n",
    "v = fun2(5,7)\n",
    "\n",
    "print(v)"
   ]
  },
  {
   "cell_type": "code",
   "execution_count": 31,
   "id": "be4b5d08-12db-4284-b5c5-2422ee302bb0",
   "metadata": {},
   "outputs": [],
   "source": [
    "# Any thing which is written under the defined function as the first line , it will known as docstring => Generally it tells us about the function\n",
    "\n",
    "# to print the docstring use = > print(defined function._doc_)"
   ]
  },
  {
   "cell_type": "code",
   "execution_count": 39,
   "id": "28975236-50d6-444a-b917-669bc82d75eb",
   "metadata": {},
   "outputs": [
    {
     "name": "stdout",
     "output_type": "stream",
     "text": [
      "This is a function which will calculate average of two numbers\n"
     ]
    }
   ],
   "source": [
    "print(fun2.__doc__)"
   ]
  },
  {
   "cell_type": "code",
   "execution_count": 38,
   "id": "e0141aa0-3d24-42c3-907c-56616d47bac0",
   "metadata": {},
   "outputs": [
    {
     "name": "stdout",
     "output_type": "stream",
     "text": [
      "This function will return sum\n",
      "7\n"
     ]
    }
   ],
   "source": [
    "def my_func(a,b):\n",
    "    '''This function will return sum'''\n",
    "    sum = a+b\n",
    "    return sum\n",
    "s = my_func(3,4)\n",
    "\n",
    "print(my_func.__doc__)\n",
    "print(s)"
   ]
  },
  {
   "cell_type": "code",
   "execution_count": null,
   "id": "6fab8cd5-343c-4bcb-b992-840b82ea7b4d",
   "metadata": {},
   "outputs": [],
   "source": []
  }
 ],
 "metadata": {
  "kernelspec": {
   "display_name": "Python 3 (ipykernel)",
   "language": "python",
   "name": "python3"
  },
  "language_info": {
   "codemirror_mode": {
    "name": "ipython",
    "version": 3
   },
   "file_extension": ".py",
   "mimetype": "text/x-python",
   "name": "python",
   "nbconvert_exporter": "python",
   "pygments_lexer": "ipython3",
   "version": "3.10.8"
  }
 },
 "nbformat": 4,
 "nbformat_minor": 5
}
