{
 "cells": [
  {
   "cell_type": "code",
   "execution_count": 1,
   "id": "6a90e9f4-72de-46d0-84b8-2a41e45e2f0f",
   "metadata": {},
   "outputs": [],
   "source": [
    "#Exercise\n",
    "\n",
    "# 1. Put a number of your choice\n",
    "# 2. Ask user to provide input\n",
    "# 3. Give limited time access to take user input for guess i.e. 9 times => And after each guess print \"Your remaininng number of guess is.....\"\n",
    "# 4. Print remaining count of guess after each input\n",
    "# 5. if user input is orrect thn print \"Woww you have successfully guess the correct number\"\n",
    "# 6. After 9 guess print \"Game over\""
   ]
  },
  {
   "cell_type": "code",
   "execution_count": 1,
   "id": "dd494125-5e17-4fa5-9fa6-50a86f14342d",
   "metadata": {},
   "outputs": [
    {
     "name": "stdin",
     "output_type": "stream",
     "text": [
      "Gues the number initially taken ? 16\n"
     ]
    },
    {
     "name": "stdout",
     "output_type": "stream",
     "text": [
      "Number guessed by you is bigger than what you have guessed, Total number of guess left is  8\n"
     ]
    },
    {
     "name": "stdin",
     "output_type": "stream",
     "text": [
      "Gues the number initially taken ? 11\n"
     ]
    },
    {
     "name": "stdout",
     "output_type": "stream",
     "text": [
      "Number guessed by you is bigger than what you have guessed, Total number of guess left is  7\n"
     ]
    },
    {
     "name": "stdin",
     "output_type": "stream",
     "text": [
      "Gues the number initially taken ? 67\n"
     ]
    },
    {
     "name": "stdout",
     "output_type": "stream",
     "text": [
      "Number guessed by you is smaller than what you have guessed, Total number of guess left is  6\n"
     ]
    },
    {
     "name": "stdin",
     "output_type": "stream",
     "text": [
      "Gues the number initially taken ? 68\n"
     ]
    },
    {
     "name": "stdout",
     "output_type": "stream",
     "text": [
      "Number guessed by you is smaller than what you have guessed, Total number of guess left is  5\n"
     ]
    },
    {
     "name": "stdin",
     "output_type": "stream",
     "text": [
      "Gues the number initially taken ? 90\n"
     ]
    },
    {
     "name": "stdout",
     "output_type": "stream",
     "text": [
      "Number guessed by you is smaller than what you have guessed, Total number of guess left is  4\n"
     ]
    },
    {
     "name": "stdin",
     "output_type": "stream",
     "text": [
      "Gues the number initially taken ? 10\n"
     ]
    },
    {
     "name": "stdout",
     "output_type": "stream",
     "text": [
      "Number guessed by you is bigger than what you have guessed, Total number of guess left is  3\n"
     ]
    },
    {
     "name": "stdin",
     "output_type": "stream",
     "text": [
      "Gues the number initially taken ? 11\n"
     ]
    },
    {
     "name": "stdout",
     "output_type": "stream",
     "text": [
      "Number guessed by you is bigger than what you have guessed, Total number of guess left is  2\n"
     ]
    },
    {
     "name": "stdin",
     "output_type": "stream",
     "text": [
      "Gues the number initially taken ? 89\n"
     ]
    },
    {
     "name": "stdout",
     "output_type": "stream",
     "text": [
      "Number guessed by you is smaller than what you have guessed, Total number of guess left is  1\n"
     ]
    },
    {
     "name": "stdin",
     "output_type": "stream",
     "text": [
      "Gues the number initially taken ? 11\n"
     ]
    },
    {
     "name": "stdout",
     "output_type": "stream",
     "text": [
      "Total number of gueaa is fininshed, now Game Over\n"
     ]
    }
   ],
   "source": [
    "n = 18\n",
    "i = 0\n",
    "while(i < 9):\n",
    "    num = int(input(\"Guess the number initially taken ?\"))\n",
    "    if num == n :\n",
    "        print(\"Woww you have successfully guess the correct number\")\n",
    "        break\n",
    "    elif num > n :\n",
    "        i = i+1\n",
    "        j = 9-i\n",
    "        if j > 0 :\n",
    "            print(\"Number guessed by you is smaller than what you have guessed, Total number of guess left is \", j)\n",
    "        else:\n",
    "            print(\"Total number of guess is finished, now Game Over\")\n",
    "    elif num < n :\n",
    "        i = i+1\n",
    "        j = 9-i\n",
    "        if j > 0 :\n",
    "            print(\"Number guessed by you is bigger than what you have guessed, Total number of guess left is \", j)\n",
    "        else:\n",
    "            print(\"Total number of guess is finished, now Game Over\")"
   ]
  },
  {
   "cell_type": "code",
   "execution_count": 14,
   "id": "1d3efffe-321d-4378-b01f-b499e0c0c239",
   "metadata": {},
   "outputs": [
    {
     "name": "stdin",
     "output_type": "stream",
     "text": [
      "Gues the number initially taken ? 12\n"
     ]
    },
    {
     "name": "stdout",
     "output_type": "stream",
     "text": [
      "Number guessed by you is bigger than what you have guessed, Total number of guess left is  8\n"
     ]
    },
    {
     "name": "stdin",
     "output_type": "stream",
     "text": [
      "Gues the number initially taken ? 20\n"
     ]
    },
    {
     "name": "stdout",
     "output_type": "stream",
     "text": [
      "Number guessed by you is smaller than what you have guessed, Total number of guess left is  7\n"
     ]
    },
    {
     "name": "stdin",
     "output_type": "stream",
     "text": [
      "Gues the number initially taken ? 19\n"
     ]
    },
    {
     "name": "stdout",
     "output_type": "stream",
     "text": [
      "Number guessed by you is smaller than what you have guessed, Total number of guess left is  6\n"
     ]
    },
    {
     "name": "stdin",
     "output_type": "stream",
     "text": [
      "Gues the number initially taken ? 18\n"
     ]
    },
    {
     "name": "stdout",
     "output_type": "stream",
     "text": [
      "Woww you have successfully guess the correct number\n"
     ]
    }
   ],
   "source": [
    "n = 18\n",
    "i = 0\n",
    "while(i < 9):\n",
    "    num = int(input(\"Gues the number initially taken ?\"))\n",
    "    if num == n :\n",
    "        print(\"Woww you have successfully guess the correct number\")\n",
    "        break\n",
    "    elif num > n :\n",
    "        i = i+1\n",
    "        j = 9-i\n",
    "        if j > 0 :\n",
    "            print(\"Number guessed by you is smaller than what you have guessed, Total number of guess left is \", j)\n",
    "        else:\n",
    "            print(\"Total number of guess is finished, now Game Over\")\n",
    "    elif num < n :\n",
    "        i = i+1\n",
    "        j = 9-i\n",
    "        if j > 0 :\n",
    "            print(\"Number guessed by you is bigger than what you have guessed, Total number of guess left is \", j)\n",
    "        else:\n",
    "            print(\"Total number of guess is finished, now Game Over\")"
   ]
  },
  {
   "cell_type": "code",
   "execution_count": null,
   "id": "6d867a7f-69ad-4a61-a013-00b7d99d0e48",
   "metadata": {},
   "outputs": [],
   "source": []
  }
 ],
 "metadata": {
  "kernelspec": {
   "display_name": "Python 3 (ipykernel)",
   "language": "python",
   "name": "python3"
  },
  "language_info": {
   "codemirror_mode": {
    "name": "ipython",
    "version": 3
   },
   "file_extension": ".py",
   "mimetype": "text/x-python",
   "name": "python",
   "nbconvert_exporter": "python",
   "pygments_lexer": "ipython3",
   "version": "3.10.8"
  }
 },
 "nbformat": 4,
 "nbformat_minor": 5
}
