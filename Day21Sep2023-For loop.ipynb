{
 "cells": [
  {
   "cell_type": "markdown",
   "id": "70043f1b-b7fa-4ead-a7d0-e47f18c1e29c",
   "metadata": {},
   "source": [
    "# Video 17 - For Loop "
   ]
  },
  {
   "cell_type": "code",
   "execution_count": 1,
   "id": "3b112aab-30bc-4ca1-981f-2fda25e8c9eb",
   "metadata": {},
   "outputs": [],
   "source": [
    "lst1 = [('anand',1),('sadanand',2),('permanand',3),('vivekanand',4),('guru',5)]"
   ]
  },
  {
   "cell_type": "code",
   "execution_count": 6,
   "id": "f4413089-3186-4863-a62e-89443a9fdebd",
   "metadata": {},
   "outputs": [
    {
     "name": "stdout",
     "output_type": "stream",
     "text": [
      "('anand', 1)\n",
      "('sadanand', 2)\n",
      "('permanand', 3)\n",
      "('vivekanand', 4)\n",
      "('guru', 5)\n"
     ]
    }
   ],
   "source": [
    "for i in lst1:\n",
    "    print(i)"
   ]
  },
  {
   "cell_type": "code",
   "execution_count": 7,
   "id": "63b992e6-ab37-4768-b137-8cc0234d220c",
   "metadata": {},
   "outputs": [],
   "source": [
    "dict1 = dict(lst1)"
   ]
  },
  {
   "cell_type": "code",
   "execution_count": 8,
   "id": "23f6c556-bb0e-4536-ba2d-b749e3e71f88",
   "metadata": {},
   "outputs": [
    {
     "data": {
      "text/plain": [
       "{'anand': 1, 'sadanand': 2, 'permanand': 3, 'vivekanand': 4, 'guru': 5}"
      ]
     },
     "execution_count": 8,
     "metadata": {},
     "output_type": "execute_result"
    }
   ],
   "source": [
    "dict1"
   ]
  },
  {
   "cell_type": "code",
   "execution_count": 17,
   "id": "7288f967-7071-4849-9073-babdfbc0a6a0",
   "metadata": {},
   "outputs": [],
   "source": [
    "# for loop in dictionary"
   ]
  },
  {
   "cell_type": "code",
   "execution_count": 18,
   "id": "598019ff-709c-40d4-9c6a-eec59824fe1d",
   "metadata": {},
   "outputs": [
    {
     "name": "stdout",
     "output_type": "stream",
     "text": [
      "('anand', 1)\n",
      "('sadanand', 2)\n",
      "('permanand', 3)\n",
      "('vivekanand', 4)\n",
      "('guru', 5)\n"
     ]
    }
   ],
   "source": [
    "for item in dict1.items():\n",
    "    print(item)"
   ]
  },
  {
   "cell_type": "code",
   "execution_count": 19,
   "id": "da98ca26-6a67-40fe-89ff-ffc152352ed9",
   "metadata": {},
   "outputs": [
    {
     "data": {
      "text/plain": [
       "dict"
      ]
     },
     "execution_count": 19,
     "metadata": {},
     "output_type": "execute_result"
    }
   ],
   "source": [
    "type(dict1)"
   ]
  },
  {
   "cell_type": "code",
   "execution_count": 20,
   "id": "56914c60-abc0-4b15-a86f-5ef2a87c92f8",
   "metadata": {},
   "outputs": [],
   "source": [
    "# to get the keys only "
   ]
  },
  {
   "cell_type": "code",
   "execution_count": 21,
   "id": "9e2ec0d6-e7d6-4c83-a9ee-65a83dcd3d71",
   "metadata": {},
   "outputs": [
    {
     "name": "stdout",
     "output_type": "stream",
     "text": [
      "anand\n",
      "sadanand\n",
      "permanand\n",
      "vivekanand\n",
      "guru\n"
     ]
    }
   ],
   "source": [
    "for i in dict1:\n",
    "    print(i)"
   ]
  },
  {
   "cell_type": "code",
   "execution_count": 22,
   "id": "181480c6-9496-4901-9e5a-9ac50c7f3ae5",
   "metadata": {},
   "outputs": [],
   "source": [
    "#Quiz - \n",
    "\n",
    "# 1. Take user input\n",
    "# 2. Check is the input received is Integer\n",
    "# 3. Check does value of integer is greater than 6 \n",
    "# if yes then print "
   ]
  },
  {
   "cell_type": "code",
   "execution_count": 42,
   "id": "c8ffd088-7a6d-4996-96e1-efab147f9d31",
   "metadata": {},
   "outputs": [
    {
     "name": "stdout",
     "output_type": "stream",
     "text": [
      "34\n",
      "54\n",
      "12\n",
      "345\n",
      "109\n",
      "12\n",
      "81\n"
     ]
    }
   ],
   "source": [
    "lst2 = [int, float, 'anand','jyotish',2,34,54,12,345,109,12,81]\n",
    "for i in lst2:\n",
    "    if str(i).isnumeric() and i > 6 :\n",
    "        print(i)\n"
   ]
  },
  {
   "cell_type": "markdown",
   "id": "20326f65-39d7-428e-8606-d96bf4e2bad9",
   "metadata": {},
   "source": [
    "# Lecture 17 completed now"
   ]
  },
  {
   "cell_type": "code",
   "execution_count": null,
   "id": "7f1759a6-78d1-447a-aa5d-9c38cc6273ff",
   "metadata": {},
   "outputs": [],
   "source": []
  }
 ],
 "metadata": {
  "kernelspec": {
   "display_name": "Python 3 (ipykernel)",
   "language": "python",
   "name": "python3"
  },
  "language_info": {
   "codemirror_mode": {
    "name": "ipython",
    "version": 3
   },
   "file_extension": ".py",
   "mimetype": "text/x-python",
   "name": "python",
   "nbconvert_exporter": "python",
   "pygments_lexer": "ipython3",
   "version": "3.10.8"
  }
 },
 "nbformat": 4,
 "nbformat_minor": 5
}
