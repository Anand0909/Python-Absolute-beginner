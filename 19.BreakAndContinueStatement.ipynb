{
 "cells": [
  {
   "cell_type": "markdown",
   "id": "8e743282-6ecd-4572-81f4-e14a9babdf8f",
   "metadata": {},
   "source": [
    "# Break & Continue"
   ]
  },
  {
   "cell_type": "code",
   "execution_count": 1,
   "id": "805384f7-0a3d-4620-af30-744e0e1d67c1",
   "metadata": {},
   "outputs": [],
   "source": [
    "#Break == Stop the loop "
   ]
  },
  {
   "cell_type": "code",
   "execution_count": 2,
   "id": "bf9aa6dd-dd0a-4b58-b89c-857d44693b7c",
   "metadata": {},
   "outputs": [
    {
     "name": "stdout",
     "output_type": "stream",
     "text": [
      "1 2 3 4 5 6 7 8 9 10 11 12 13 14 15 16 17 18 19 20 21 22 23 24 25 26 27 28 29 30 31 32 33 34 35 36 37 38 39 40 41 42 43 44 45 46 "
     ]
    }
   ],
   "source": [
    "i = 0\n",
    "while(True):\n",
    "    print(i+1, end=\" \")\n",
    "    if(i==45):\n",
    "        break\n",
    "    i = i+1"
   ]
  },
  {
   "cell_type": "code",
   "execution_count": 4,
   "id": "345264cd-4038-46fd-a216-82d185f6d225",
   "metadata": {},
   "outputs": [],
   "source": [
    "# The above program is to run a loop untill a given condition meets (at break) and after break code jumps to next iteration/line of codes => This is called control\n",
    "# here Continue will be used when we want to jump the codes and do not want to run through remaining iteration  "
   ]
  },
  {
   "cell_type": "code",
   "execution_count": 5,
   "id": "88bff0b6-de5e-450e-8c66-115826005067",
   "metadata": {},
   "outputs": [
    {
     "name": "stdout",
     "output_type": "stream",
     "text": [
      "5 6 7 8 9 10 11 12 13 14 15 16 17 18 19 20 21 22 23 24 25 26 27 28 29 30 31 32 33 34 35 36 37 38 39 40 41 42 43 44 45 46 "
     ]
    }
   ],
   "source": [
    "i = 0\n",
    "while(True):\n",
    "    if i+1<5:\n",
    "        i=i+1\n",
    "        continue\n",
    "    print(i+1, end=\" \")\n",
    "    if(i==45):\n",
    "        break\n",
    "    i = i+1\n",
    "    \n",
    "# Note = After runiing this control till when i +1 is less than 5 , loop will not run and when this value >5 then only loop will start because untill continue control is active the code will go out of the iteration"
   ]
  },
  {
   "cell_type": "code",
   "execution_count": 3,
   "id": "9d151d61-f048-4853-8d5c-98e287919d9e",
   "metadata": {},
   "outputs": [],
   "source": [
    "# Break => it basically break the iteration and code comes out of while loop \n",
    "# Continue => It restrict the iteration till continue only and revert the code again in while loop "
   ]
  },
  {
   "cell_type": "code",
   "execution_count": 1,
   "id": "5b897b17-794e-4fff-9fb1-1f424377ac79",
   "metadata": {},
   "outputs": [],
   "source": [
    "# Quiz\n",
    "\n",
    "# 1.Take user input numbers \n",
    "# 2.till when the value is less than 100\n",
    "# 3.Once the input received is greater than 100, print \"Congrats you have printed greater than 100\" "
   ]
  },
  {
   "cell_type": "code",
   "execution_count": 2,
   "id": "fd19e67d-89f5-48ab-83c5-77a852335c26",
   "metadata": {},
   "outputs": [
    {
     "name": "stdin",
     "output_type": "stream",
     "text": [
      "Please tell us the required numbers to be printed ! 10\n"
     ]
    },
    {
     "name": "stdout",
     "output_type": "stream",
     "text": [
      "10\n"
     ]
    },
    {
     "name": "stdin",
     "output_type": "stream",
     "text": [
      "Please tell us the required numbers to be printed ! 23\n"
     ]
    },
    {
     "name": "stdout",
     "output_type": "stream",
     "text": [
      "23\n"
     ]
    },
    {
     "name": "stdin",
     "output_type": "stream",
     "text": [
      "Please tell us the required numbers to be printed ! 12\n"
     ]
    },
    {
     "name": "stdout",
     "output_type": "stream",
     "text": [
      "12\n"
     ]
    },
    {
     "name": "stdin",
     "output_type": "stream",
     "text": [
      "Please tell us the required numbers to be printed ! 112\n"
     ]
    },
    {
     "name": "stdout",
     "output_type": "stream",
     "text": [
      "Congratulations you have printed greter than 100\n"
     ]
    }
   ],
   "source": [
    "while(True):\n",
    "    i = int(input(\"Please tell us the required numbers to be printed !\"))\n",
    "    if i>100:\n",
    "        print(\"Congratulations you have printed greter than 100\")\n",
    "        break\n",
    "    else:\n",
    "        print(i)\n",
    "        continue"
   ]
  },
  {
   "cell_type": "code",
   "execution_count": null,
   "id": "9a56088a-8559-43e1-969e-42e67ad7e16a",
   "metadata": {},
   "outputs": [],
   "source": []
  }
 ],
 "metadata": {
  "kernelspec": {
   "display_name": "Python 3 (ipykernel)",
   "language": "python",
   "name": "python3"
  },
  "language_info": {
   "codemirror_mode": {
    "name": "ipython",
    "version": 3
   },
   "file_extension": ".py",
   "mimetype": "text/x-python",
   "name": "python",
   "nbconvert_exporter": "python",
   "pygments_lexer": "ipython3",
   "version": "3.10.8"
  }
 },
 "nbformat": 4,
 "nbformat_minor": 5
}
