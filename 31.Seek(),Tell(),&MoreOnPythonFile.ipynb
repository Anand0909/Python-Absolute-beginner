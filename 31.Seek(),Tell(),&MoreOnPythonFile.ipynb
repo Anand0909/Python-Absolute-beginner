{
 "cells": [
  {
   "cell_type": "code",
   "execution_count": 2,
   "id": "c8f1d843-4961-4f95-ae65-341263fd6642",
   "metadata": {},
   "outputs": [
    {
     "name": "stdout",
     "output_type": "stream",
     "text": [
      "0\n",
      "Harry is a very good person who is teaching python to us.\n",
      "\n",
      "58\n",
      "Thank You Harry BhaiThank You Harry Bhai for al your efforts\n",
      "118\n",
      "\n"
     ]
    }
   ],
   "source": [
    "f = open(\"Anand2.txt\")\n",
    "\n",
    "print(f.tell())\n",
    "print(f.readline())\n",
    "\n",
    "print(f.tell())\n",
    "print(f.readline())\n",
    "\n",
    "\n",
    "print(f.tell())\n",
    "print(f.readline())"
   ]
  },
  {
   "cell_type": "code",
   "execution_count": 3,
   "id": "7b7f5d45-5291-4655-a5d8-c0e88b57b3e4",
   "metadata": {},
   "outputs": [],
   "source": [
    "# tell() function gives us the pointer position in python"
   ]
  },
  {
   "cell_type": "code",
   "execution_count": 4,
   "id": "2d87085e-df2a-436d-8ee8-ac4e0f267313",
   "metadata": {},
   "outputs": [],
   "source": [
    "# seek() function is required to reset the pointer position"
   ]
  },
  {
   "cell_type": "code",
   "execution_count": 5,
   "id": "6c281343-bd82-4b50-b41f-a0d2ac537ccb",
   "metadata": {},
   "outputs": [
    {
     "name": "stdout",
     "output_type": "stream",
     "text": [
      "0\n",
      "Harry is a very good person who is teaching python to us.\n",
      "\n",
      "10\n",
      " very good person who is teaching python to us.\n",
      "\n",
      "58\n",
      "Thank You Harry BhaiThank You Harry Bhai for al your efforts\n"
     ]
    }
   ],
   "source": [
    "f = open(\"Anand2.txt\")\n",
    "\n",
    "print(f.tell())\n",
    "print(f.readline())\n",
    "\n",
    "f.seek((10))\n",
    "print(f.tell())\n",
    "print(f.readline())\n",
    "\n",
    "\n",
    "print(f.tell())\n",
    "print(f.readline())"
   ]
  },
  {
   "cell_type": "code",
   "execution_count": 8,
   "id": "79330afa-5694-42da-bb48-630ea412f0b9",
   "metadata": {},
   "outputs": [
    {
     "name": "stdout",
     "output_type": "stream",
     "text": [
      "0\n",
      "Harry is a very good person who is teaching python to us.\n",
      "\n",
      "0\n",
      "Harry is a very good person who is teaching python to us.\n",
      "\n",
      "58\n",
      "Thank You Harry BhaiThank You Harry Bhai for al your efforts\n"
     ]
    }
   ],
   "source": [
    "f = open(\"Anand2.txt\")\n",
    "\n",
    "print(f.tell())\n",
    "print(f.readline())\n",
    "\n",
    "#seek() function will reset the pointer at given position\n",
    "\n",
    "f.seek((0))\n",
    "print(f.tell())\n",
    "print(f.readline())\n",
    "\n",
    "\n",
    "print(f.tell())\n",
    "print(f.readline())\n",
    "\n",
    "f.close()"
   ]
  },
  {
   "cell_type": "code",
   "execution_count": null,
   "id": "56c90c49-0e75-4a29-afd6-de78affceaba",
   "metadata": {},
   "outputs": [],
   "source": []
  }
 ],
 "metadata": {
  "kernelspec": {
   "display_name": "Python 3 (ipykernel)",
   "language": "python",
   "name": "python3"
  },
  "language_info": {
   "codemirror_mode": {
    "name": "ipython",
    "version": 3
   },
   "file_extension": ".py",
   "mimetype": "text/x-python",
   "name": "python",
   "nbconvert_exporter": "python",
   "pygments_lexer": "ipython3",
   "version": "3.10.8"
  }
 },
 "nbformat": 4,
 "nbformat_minor": 5
}
