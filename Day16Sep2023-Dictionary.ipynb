{
 "cells": [
  {
   "cell_type": "markdown",
   "id": "46168426-cdb9-4be1-879e-526d6bf696fa",
   "metadata": {},
   "source": [
    "# Lecture - 11 - Dictionary"
   ]
  },
  {
   "cell_type": "code",
   "execution_count": 1,
   "id": "8e905016-3c49-48db-83a3-0240c15a7851",
   "metadata": {},
   "outputs": [],
   "source": [
    "d1 = {}"
   ]
  },
  {
   "cell_type": "code",
   "execution_count": 2,
   "id": "16d4369e-f1f0-413b-b64a-9ce57777df40",
   "metadata": {},
   "outputs": [
    {
     "data": {
      "text/plain": [
       "dict"
      ]
     },
     "execution_count": 2,
     "metadata": {},
     "output_type": "execute_result"
    }
   ],
   "source": [
    "type(d1)"
   ]
  },
  {
   "cell_type": "code",
   "execution_count": 3,
   "id": "8db390a6-7793-482a-8449-605b4becca36",
   "metadata": {},
   "outputs": [],
   "source": [
    "d2 ={\"anand\":\"chawal\", \"Jyotish\":\"Bati\", \"shubham\":{\"B\":\"Maggie\", \"l\":\"chawal\", \"d\":\"chicken\"}}"
   ]
  },
  {
   "cell_type": "code",
   "execution_count": 4,
   "id": "8303a54e-7d08-4133-a188-32c1d950f4b5",
   "metadata": {},
   "outputs": [
    {
     "data": {
      "text/plain": [
       "{'anand': 'chawal',\n",
       " 'Jyotish': 'Bati',\n",
       " 'shubham': {'B': 'Maggie', 'l': 'chawal', 'd': 'chicken'}}"
      ]
     },
     "execution_count": 4,
     "metadata": {},
     "output_type": "execute_result"
    }
   ],
   "source": [
    "d2"
   ]
  },
  {
   "cell_type": "code",
   "execution_count": 10,
   "id": "bedc7c41-a309-41ae-bfef-0a579bf3aa32",
   "metadata": {},
   "outputs": [
    {
     "data": {
      "text/plain": [
       "{'B': 'Maggie', 'l': 'chawal', 'd': 'chicken'}"
      ]
     },
     "execution_count": 10,
     "metadata": {},
     "output_type": "execute_result"
    }
   ],
   "source": [
    "d2['shubham']"
   ]
  },
  {
   "cell_type": "code",
   "execution_count": 13,
   "id": "8d66b5c2-cdef-4036-972e-253cdcc72810",
   "metadata": {},
   "outputs": [],
   "source": [
    "#  to add any key value pair\n",
    "\n",
    "d2[\"Daddu\"]=\"Healthy food\""
   ]
  },
  {
   "cell_type": "code",
   "execution_count": 16,
   "id": "b1b38fb2-274f-4f1a-8244-cfc5c9630342",
   "metadata": {},
   "outputs": [
    {
     "data": {
      "text/plain": [
       "{'Jyotish': 'Bati',\n",
       " 'shubham': {'B': 'Maggie', 'l': 'chawal', 'd': 'chicken'},\n",
       " 'Daddu': 'Healthy food'}"
      ]
     },
     "execution_count": 16,
     "metadata": {},
     "output_type": "execute_result"
    }
   ],
   "source": [
    "d2"
   ]
  },
  {
   "cell_type": "code",
   "execution_count": 18,
   "id": "51c22e20-e154-4981-92b7-ef23fb809539",
   "metadata": {},
   "outputs": [],
   "source": [
    "# to remove any pair\n",
    "\n",
    "del d2['Jyotish']"
   ]
  },
  {
   "cell_type": "code",
   "execution_count": 19,
   "id": "7851351d-3732-4cd3-a28e-3728cf168485",
   "metadata": {},
   "outputs": [
    {
     "data": {
      "text/plain": [
       "{'shubham': {'B': 'Maggie', 'l': 'chawal', 'd': 'chicken'},\n",
       " 'Daddu': 'Healthy food'}"
      ]
     },
     "execution_count": 19,
     "metadata": {},
     "output_type": "execute_result"
    }
   ],
   "source": [
    "d2"
   ]
  },
  {
   "cell_type": "code",
   "execution_count": 20,
   "id": "e47aff72-9a9e-4486-9bd4-85dc84b93d2e",
   "metadata": {},
   "outputs": [],
   "source": [
    "# to copy any disctionary"
   ]
  },
  {
   "cell_type": "code",
   "execution_count": 21,
   "id": "d48ed2bd-1899-43c4-90d2-984b98ad99fb",
   "metadata": {},
   "outputs": [],
   "source": [
    "d3 = d2"
   ]
  },
  {
   "cell_type": "code",
   "execution_count": 22,
   "id": "27820964-f11b-4f88-8cbe-2653b80ebc48",
   "metadata": {},
   "outputs": [
    {
     "data": {
      "text/plain": [
       "{'shubham': {'B': 'Maggie', 'l': 'chawal', 'd': 'chicken'},\n",
       " 'Daddu': 'Healthy food'}"
      ]
     },
     "execution_count": 22,
     "metadata": {},
     "output_type": "execute_result"
    }
   ],
   "source": [
    "d3"
   ]
  },
  {
   "cell_type": "code",
   "execution_count": 24,
   "id": "cf2f5611-ade8-4fb7-958f-77b38293c8f3",
   "metadata": {},
   "outputs": [],
   "source": [
    "del d3['Daddu']"
   ]
  },
  {
   "cell_type": "code",
   "execution_count": 25,
   "id": "c1791d7c-965a-4212-977c-e09127243741",
   "metadata": {},
   "outputs": [
    {
     "data": {
      "text/plain": [
       "{'shubham': {'B': 'Maggie', 'l': 'chawal', 'd': 'chicken'}}"
      ]
     },
     "execution_count": 25,
     "metadata": {},
     "output_type": "execute_result"
    }
   ],
   "source": [
    "d2"
   ]
  },
  {
   "cell_type": "code",
   "execution_count": 30,
   "id": "bf314050-2023-411f-a3de-ecdb9653c3c1",
   "metadata": {},
   "outputs": [],
   "source": [
    "# Note = If we make copy by putting equal sign then any changes in one of the dictionary wi;; affect both the dictionary => menas it doesn't make copy it just replicate the original => To avoid this we need to use copy function"
   ]
  },
  {
   "cell_type": "code",
   "execution_count": 27,
   "id": "beb77fef-c237-444a-b41b-b216381de349",
   "metadata": {},
   "outputs": [],
   "source": [
    "# But while copying is done by using .copy function then in that case the original dictionary will remain intact in case of any changes made in final dictionary "
   ]
  },
  {
   "cell_type": "code",
   "execution_count": 28,
   "id": "58f2ae05-7c42-4afc-9c0d-bb57e527bd5c",
   "metadata": {},
   "outputs": [],
   "source": [
    "d3 ['jyotish'] = 'daal bati churma'"
   ]
  },
  {
   "cell_type": "code",
   "execution_count": 29,
   "id": "f41d88aa-8473-4e76-ab26-df54919e5311",
   "metadata": {},
   "outputs": [
    {
     "data": {
      "text/plain": [
       "{'shubham': {'B': 'Maggie', 'l': 'chawal', 'd': 'chicken'},\n",
       " 'jyotish': 'daal bati churma'}"
      ]
     },
     "execution_count": 29,
     "metadata": {},
     "output_type": "execute_result"
    }
   ],
   "source": [
    "d2"
   ]
  },
  {
   "cell_type": "code",
   "execution_count": 31,
   "id": "464ed7b0-90cd-46c9-a1b3-8a8e88ee3854",
   "metadata": {},
   "outputs": [],
   "source": [
    "d4 = d2.copy()"
   ]
  },
  {
   "cell_type": "code",
   "execution_count": 32,
   "id": "9616c0d6-092f-4ff3-a4fc-100e614fc4cc",
   "metadata": {},
   "outputs": [
    {
     "data": {
      "text/plain": [
       "{'shubham': {'B': 'Maggie', 'l': 'chawal', 'd': 'chicken'},\n",
       " 'jyotish': 'daal bati churma'}"
      ]
     },
     "execution_count": 32,
     "metadata": {},
     "output_type": "execute_result"
    }
   ],
   "source": [
    "d4"
   ]
  },
  {
   "cell_type": "code",
   "execution_count": 33,
   "id": "5b6cd2dd-020e-4bf8-89ae-051c61de74b4",
   "metadata": {},
   "outputs": [],
   "source": [
    "d4 ['bittu'] ='chawal fry'"
   ]
  },
  {
   "cell_type": "code",
   "execution_count": 34,
   "id": "03b7ebaf-8485-4db5-90c0-873b76c8dabe",
   "metadata": {},
   "outputs": [
    {
     "data": {
      "text/plain": [
       "{'shubham': {'B': 'Maggie', 'l': 'chawal', 'd': 'chicken'},\n",
       " 'jyotish': 'daal bati churma',\n",
       " 'bittu': 'chawal fry'}"
      ]
     },
     "execution_count": 34,
     "metadata": {},
     "output_type": "execute_result"
    }
   ],
   "source": [
    "d4"
   ]
  },
  {
   "cell_type": "code",
   "execution_count": 35,
   "id": "17dcc07f-b90e-415c-9e1c-f645cde2374e",
   "metadata": {},
   "outputs": [],
   "source": [
    "# Now i have performed action on D4 which is copy of d2 . but as it is a copy so d2 will remail intact"
   ]
  },
  {
   "cell_type": "code",
   "execution_count": 38,
   "id": "c468761a-af87-40b5-967c-627d6c706af7",
   "metadata": {},
   "outputs": [
    {
     "data": {
      "text/plain": [
       "{'shubham': {'B': 'Maggie', 'l': 'chawal', 'd': 'chicken'},\n",
       " 'jyotish': 'daal bati churma'}"
      ]
     },
     "execution_count": 38,
     "metadata": {},
     "output_type": "execute_result"
    }
   ],
   "source": [
    "d2"
   ]
  },
  {
   "cell_type": "code",
   "execution_count": 39,
   "id": "732ded30-4611-44e0-a79b-7393752b0a38",
   "metadata": {},
   "outputs": [
    {
     "data": {
      "text/plain": [
       "{'shubham': {'B': 'Maggie', 'l': 'chawal', 'd': 'chicken'},\n",
       " 'jyotish': 'daal bati churma',\n",
       " 'bittu': 'chawal fry'}"
      ]
     },
     "execution_count": 39,
     "metadata": {},
     "output_type": "execute_result"
    }
   ],
   "source": [
    "d4"
   ]
  },
  {
   "cell_type": "code",
   "execution_count": 40,
   "id": "467a4878-c8bd-43dc-bc7d-62c920e5a128",
   "metadata": {},
   "outputs": [],
   "source": [
    "# we can aso use update() function to add key value pair in exsisting dictionary "
   ]
  },
  {
   "cell_type": "code",
   "execution_count": 41,
   "id": "5bf70f62-00c6-418a-84e4-f1c62c88f47e",
   "metadata": {},
   "outputs": [],
   "source": [
    "d4.update({\"monika\":\"machali\",'gaurav':'chicken','avinash':'mutton'})"
   ]
  },
  {
   "cell_type": "code",
   "execution_count": 42,
   "id": "65b307b6-94cc-46ec-822f-11db6dbe4776",
   "metadata": {},
   "outputs": [
    {
     "data": {
      "text/plain": [
       "{'shubham': {'B': 'Maggie', 'l': 'chawal', 'd': 'chicken'},\n",
       " 'jyotish': 'daal bati churma',\n",
       " 'bittu': 'chawal fry',\n",
       " 'monika': 'machali',\n",
       " 'gaurav': 'chicken',\n",
       " 'avinash': 'mutton'}"
      ]
     },
     "execution_count": 42,
     "metadata": {},
     "output_type": "execute_result"
    }
   ],
   "source": [
    "d4"
   ]
  },
  {
   "cell_type": "code",
   "execution_count": 43,
   "id": "8876aa03-7015-47e2-9dbe-950eeecbd0ae",
   "metadata": {},
   "outputs": [],
   "source": [
    "# update fuction can be used to update exsisting dictionary while one or more than one key value pair are needs to be added"
   ]
  },
  {
   "cell_type": "code",
   "execution_count": 45,
   "id": "778e4bf1-e9b9-4ae8-8a56-97d55209cdf3",
   "metadata": {},
   "outputs": [],
   "source": [
    "# to print keys=> use .keys function"
   ]
  },
  {
   "cell_type": "code",
   "execution_count": 46,
   "id": "2848636d-9d23-4352-b144-e246902919bf",
   "metadata": {},
   "outputs": [
    {
     "data": {
      "text/plain": [
       "dict_keys(['shubham', 'jyotish', 'bittu', 'monika', 'gaurav', 'avinash'])"
      ]
     },
     "execution_count": 46,
     "metadata": {},
     "output_type": "execute_result"
    }
   ],
   "source": [
    "d4.keys()"
   ]
  },
  {
   "cell_type": "code",
   "execution_count": 47,
   "id": "1148eb6c-8bb0-4e61-b3d3-c8e78867b13b",
   "metadata": {},
   "outputs": [],
   "source": [
    "# to print values in the give dictionary => use .value() function"
   ]
  },
  {
   "cell_type": "code",
   "execution_count": 49,
   "id": "8396055a-a95e-4ea5-8832-b1ff63b9d500",
   "metadata": {},
   "outputs": [
    {
     "data": {
      "text/plain": [
       "dict_values([{'B': 'Maggie', 'l': 'chawal', 'd': 'chicken'}, 'daal bati churma', 'chawal fry', 'machali', 'chicken', 'mutton'])"
      ]
     },
     "execution_count": 49,
     "metadata": {},
     "output_type": "execute_result"
    }
   ],
   "source": [
    "d4.values()"
   ]
  },
  {
   "cell_type": "code",
   "execution_count": 50,
   "id": "84ac56ff-db18-4e39-92ff-aaba69d02014",
   "metadata": {},
   "outputs": [],
   "source": [
    "# to print key values pair from a given dictionary => use .items() function"
   ]
  },
  {
   "cell_type": "code",
   "execution_count": 51,
   "id": "6325f9c2-0c7c-41f0-b160-016c5676823b",
   "metadata": {},
   "outputs": [
    {
     "data": {
      "text/plain": [
       "dict_items([('shubham', {'B': 'Maggie', 'l': 'chawal', 'd': 'chicken'}), ('jyotish', 'daal bati churma'), ('bittu', 'chawal fry'), ('monika', 'machali'), ('gaurav', 'chicken'), ('avinash', 'mutton')])"
      ]
     },
     "execution_count": 51,
     "metadata": {},
     "output_type": "execute_result"
    }
   ],
   "source": [
    "d4.items()"
   ]
  },
  {
   "cell_type": "markdown",
   "id": "f2ecfce9-5bd4-4676-b88b-c7fbba18419b",
   "metadata": {},
   "source": [
    "# This is end of lecture 11 - Intials about Dictionary"
   ]
  },
  {
   "cell_type": "code",
   "execution_count": 53,
   "id": "134cb2c6-34b4-42b0-acc0-1b0faac1c0c2",
   "metadata": {},
   "outputs": [],
   "source": [
    "# Assignent . Cretae a dictionary , where it ask for user input and in return it gives answer"
   ]
  },
  {
   "cell_type": "code",
   "execution_count": 59,
   "id": "80bf5bc5-5110-4cd0-9da8-7092971c8a61",
   "metadata": {},
   "outputs": [
    {
     "name": "stdin",
     "output_type": "stream",
     "text": [
      "Can you please let me kow for which word you are searching from Dictionay d1.......   Cat\n"
     ]
    },
    {
     "data": {
      "text/plain": [
       "'https://en.wikipedia.org/wiki/Cat'"
      ]
     },
     "execution_count": 59,
     "metadata": {},
     "output_type": "execute_result"
    }
   ],
   "source": [
    "d1 = {\"Apple\":\"https://en.wikipedia.org/wiki/Apple_Inc\",\"Ball\":\"https://www.merriam-webster.com/dictionary/ball\",\"Cat\":\"https://en.wikipedia.org/wiki/Cat\",\"Dog\":\"https://en.wikipedia.org/wiki/Dog\",\"Elephant\":\"https://en.wikipedia.org/wiki/Elephant\"}\n",
    "\n",
    "Dict = input(\"Can you please let me kow for which word you are searching from Dictionay d1.......  \")\n",
    "\n",
    "d1[Dict]\n",
    "\n"
   ]
  },
  {
   "cell_type": "markdown",
   "id": "b5391d9c-40df-4f11-8b88-c0b96a4442e6",
   "metadata": {},
   "source": [
    "# Here lecture 11 finished "
   ]
  },
  {
   "cell_type": "code",
   "execution_count": null,
   "id": "56775830-5009-4278-98a4-12f19c4fba42",
   "metadata": {},
   "outputs": [],
   "source": []
  }
 ],
 "metadata": {
  "kernelspec": {
   "display_name": "Python 3 (ipykernel)",
   "language": "python",
   "name": "python3"
  },
  "language_info": {
   "codemirror_mode": {
    "name": "ipython",
    "version": 3
   },
   "file_extension": ".py",
   "mimetype": "text/x-python",
   "name": "python",
   "nbconvert_exporter": "python",
   "pygments_lexer": "ipython3",
   "version": "3.10.8"
  }
 },
 "nbformat": 4,
 "nbformat_minor": 5
}
