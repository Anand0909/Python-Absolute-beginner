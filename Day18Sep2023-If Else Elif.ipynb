{
 "cells": [
  {
   "cell_type": "markdown",
   "id": "03db64b4-6a15-4468-90c7-7078d0937dce",
   "metadata": {},
   "source": [
    "# This lecture is about If Else & Elif condition"
   ]
  },
  {
   "cell_type": "code",
   "execution_count": 1,
   "id": "1712609e-8aec-4711-84b9-2290132a139b",
   "metadata": {},
   "outputs": [],
   "source": [
    "var1 = 10"
   ]
  },
  {
   "cell_type": "code",
   "execution_count": 2,
   "id": "75f30fbe-2cbb-4ca9-8b0a-87f6a66dc0d8",
   "metadata": {},
   "outputs": [],
   "source": [
    "var2 = 34"
   ]
  },
  {
   "cell_type": "code",
   "execution_count": 6,
   "id": "5f1b0821-5b33-4679-a3ca-fc41835db8b9",
   "metadata": {},
   "outputs": [
    {
     "name": "stdin",
     "output_type": "stream",
     "text": [
      " 34\n"
     ]
    },
    {
     "name": "stdout",
     "output_type": "stream",
     "text": [
      "Equal\n"
     ]
    }
   ],
   "source": [
    "var3 = int(input())\n",
    "\n",
    "\n",
    "if var3 > var2:\n",
    "    print(\"Greater\")\n",
    "elif var3 == var2:\n",
    "    print(\"Equal\")\n",
    "else:\n",
    "    print(\"Lesser\")"
   ]
  },
  {
   "cell_type": "code",
   "execution_count": 7,
   "id": "2204a2dd-8c18-4ad7-a838-e6204085d5b8",
   "metadata": {},
   "outputs": [],
   "source": [
    "# Why elif used => To reduce the Iteration of codes , once above/first If statement becomes true then code should pass that Block rather than going through each line of code in given block"
   ]
  },
  {
   "cell_type": "code",
   "execution_count": 8,
   "id": "b8dac09e-c6c0-450f-9c69-9b8885319157",
   "metadata": {},
   "outputs": [],
   "source": [
    "lst1 = [1,2,3,4,5]"
   ]
  },
  {
   "cell_type": "code",
   "execution_count": 13,
   "id": "32a124b5-6c4a-4696-a570-421f70157960",
   "metadata": {},
   "outputs": [
    {
     "name": "stdout",
     "output_type": "stream",
     "text": [
      "False\n",
      "No it is not in list\n"
     ]
    }
   ],
   "source": [
    "print(50 in lst1)\n",
    "\n",
    "if 50 not in lst1:\n",
    "    print(\"No it is not in list\")"
   ]
  },
  {
   "cell_type": "code",
   "execution_count": 30,
   "id": "3f5f1934-a8ad-4aeb-a988-568e1619a5ef",
   "metadata": {},
   "outputs": [
    {
     "name": "stdin",
     "output_type": "stream",
     "text": [
      "Can you please tell me your current age? 234\n"
     ]
    },
    {
     "name": "stdout",
     "output_type": "stream",
     "text": [
      "enter a valid age\n"
     ]
    }
   ],
   "source": [
    "# Quiz\n",
    "\n",
    "age = int(input(\"Can you please tell me your current age?\"))\n",
    "\n",
    "if age in range(7,101):    \n",
    "    if age >=7 and age<=18:\n",
    "        print(\"You can't drive\")\n",
    "    elif age > 18 and age <=100 :\n",
    "        print(\"You can drive\")\n",
    "    else:\n",
    "        print(\"Enter the valid age\")\n",
    "else:\n",
    "    print(\"enter a valid age\")"
   ]
  },
  {
   "cell_type": "markdown",
   "id": "5e4fcabf-31f8-4bda-ad63-4f9b94da8c0c",
   "metadata": {},
   "source": [
    "# 14th Video is completed here "
   ]
  },
  {
   "cell_type": "code",
   "execution_count": null,
   "id": "8b3a5c79-db99-49aa-8e77-1721a89a573d",
   "metadata": {},
   "outputs": [],
   "source": []
  }
 ],
 "metadata": {
  "kernelspec": {
   "display_name": "Python 3 (ipykernel)",
   "language": "python",
   "name": "python3"
  },
  "language_info": {
   "codemirror_mode": {
    "name": "ipython",
    "version": 3
   },
   "file_extension": ".py",
   "mimetype": "text/x-python",
   "name": "python",
   "nbconvert_exporter": "python",
   "pygments_lexer": "ipython3",
   "version": "3.10.8"
  }
 },
 "nbformat": 4,
 "nbformat_minor": 5
}
