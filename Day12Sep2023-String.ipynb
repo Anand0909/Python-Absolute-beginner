{
 "cells": [
  {
   "cell_type": "markdown",
   "id": "c4e0d7bb-cef0-4d13-aefd-e76b8593da8d",
   "metadata": {},
   "source": [
    "### String Slicing and other function "
   ]
  },
  {
   "cell_type": "code",
   "execution_count": 1,
   "id": "0ea3f0e5-2f5c-464c-a4ec-d77904d0bb78",
   "metadata": {},
   "outputs": [
    {
     "data": {
      "text/plain": [
       "4"
      ]
     },
     "execution_count": 1,
     "metadata": {},
     "output_type": "execute_result"
    }
   ],
   "source": [
    "1+3"
   ]
  },
  {
   "cell_type": "code",
   "execution_count": 2,
   "id": "12a75978-848a-4e1b-9324-699bd8993d00",
   "metadata": {},
   "outputs": [],
   "source": [
    "mystr = \"Anand is a good boy\""
   ]
  },
  {
   "cell_type": "code",
   "execution_count": 3,
   "id": "7e5e4867-fd7f-47f9-b290-2b314a517fca",
   "metadata": {},
   "outputs": [
    {
     "data": {
      "text/plain": [
       "19"
      ]
     },
     "execution_count": 3,
     "metadata": {},
     "output_type": "execute_result"
    }
   ],
   "source": [
    "len(mystr)"
   ]
  },
  {
   "cell_type": "code",
   "execution_count": 4,
   "id": "54157760-700a-4375-8bfb-da8866fc2a3e",
   "metadata": {},
   "outputs": [
    {
     "data": {
      "text/plain": [
       "'Anand '"
      ]
     },
     "execution_count": 4,
     "metadata": {},
     "output_type": "execute_result"
    }
   ],
   "source": [
    "mystr[0:6]"
   ]
  },
  {
   "cell_type": "code",
   "execution_count": 5,
   "id": "8ae96219-ba7d-4d41-b546-b084d72ecb80",
   "metadata": {},
   "outputs": [
    {
     "name": "stdout",
     "output_type": "stream",
     "text": [
      "Anand is a good boy\n"
     ]
    }
   ],
   "source": [
    "print(mystr[0:len(mystr)])"
   ]
  },
  {
   "cell_type": "code",
   "execution_count": 6,
   "id": "b6b14cda-1fcd-4a0f-b96a-25d63631197a",
   "metadata": {},
   "outputs": [
    {
     "data": {
      "text/plain": [
       "'Aadi  odby'"
      ]
     },
     "execution_count": 6,
     "metadata": {},
     "output_type": "execute_result"
    }
   ],
   "source": [
    "mystr[0:19:2]"
   ]
  },
  {
   "cell_type": "code",
   "execution_count": 7,
   "id": "a91378e3-ef1c-46b4-a1fb-300858d4e157",
   "metadata": {},
   "outputs": [
    {
     "data": {
      "text/plain": [
       "'Aadi  odby'"
      ]
     },
     "execution_count": 7,
     "metadata": {},
     "output_type": "execute_result"
    }
   ],
   "source": [
    "mystr[0: :2]"
   ]
  },
  {
   "cell_type": "code",
   "execution_count": 9,
   "id": "3542786e-73b0-46cc-b1c3-550dceea9b46",
   "metadata": {},
   "outputs": [],
   "source": [
    "#When end value is not given then this function will consider full string for action"
   ]
  },
  {
   "cell_type": "code",
   "execution_count": 10,
   "id": "2891db72-4d4c-417c-aa03-ceaf78e8b087",
   "metadata": {},
   "outputs": [],
   "source": [
    "str1 = \"Anand is a good boy\""
   ]
  },
  {
   "cell_type": "code",
   "execution_count": 15,
   "id": "ea63f51d-30c0-439f-9ba3-e05b1d1d4f77",
   "metadata": {},
   "outputs": [
    {
     "data": {
      "text/plain": [
       "'d is a good bo'"
      ]
     },
     "execution_count": 15,
     "metadata": {},
     "output_type": "execute_result"
    }
   ],
   "source": [
    "str1[4:-1]"
   ]
  },
  {
   "cell_type": "code",
   "execution_count": 16,
   "id": "d9ae8f2f-2a6c-4f23-99ed-475f3ebcbbba",
   "metadata": {},
   "outputs": [
    {
     "data": {
      "text/plain": [
       "'yob doog a si dnanA'"
      ]
     },
     "execution_count": 16,
     "metadata": {},
     "output_type": "execute_result"
    }
   ],
   "source": [
    "str1[::-1]"
   ]
  },
  {
   "cell_type": "code",
   "execution_count": 17,
   "id": "8533519d-d0e1-4280-a1d3-f1fbf6cce4f1",
   "metadata": {},
   "outputs": [
    {
     "data": {
      "text/plain": [
       "'ybdo  idaA'"
      ]
     },
     "execution_count": 17,
     "metadata": {},
     "output_type": "execute_result"
    }
   ],
   "source": [
    "str1[::-2]"
   ]
  },
  {
   "cell_type": "code",
   "execution_count": 18,
   "id": "3e9589bb-e2bb-4c6e-876e-af64bf40d690",
   "metadata": {},
   "outputs": [
    {
     "data": {
      "text/plain": [
       "False"
      ]
     },
     "execution_count": 18,
     "metadata": {},
     "output_type": "execute_result"
    }
   ],
   "source": [
    "str1.isalnum()"
   ]
  },
  {
   "cell_type": "code",
   "execution_count": 19,
   "id": "d05e3a8f-09e4-4d1f-a76f-c6bf5e898f82",
   "metadata": {},
   "outputs": [
    {
     "data": {
      "text/plain": [
       "'Anand is a good boy'"
      ]
     },
     "execution_count": 19,
     "metadata": {},
     "output_type": "execute_result"
    }
   ],
   "source": [
    "str1.capitalize()"
   ]
  },
  {
   "cell_type": "code",
   "execution_count": 20,
   "id": "4cc956f5-3dd2-498c-8e0b-76a4b74a2741",
   "metadata": {},
   "outputs": [
    {
     "data": {
      "text/plain": [
       "True"
      ]
     },
     "execution_count": 20,
     "metadata": {},
     "output_type": "execute_result"
    }
   ],
   "source": [
    "str1.endswith(\"boy\")"
   ]
  },
  {
   "cell_type": "code",
   "execution_count": 21,
   "id": "a32278f4-5391-4324-8e8c-faf492bc53de",
   "metadata": {},
   "outputs": [
    {
     "data": {
      "text/plain": [
       "1"
      ]
     },
     "execution_count": 21,
     "metadata": {},
     "output_type": "execute_result"
    }
   ],
   "source": [
    "str1.count(\"A\")"
   ]
  },
  {
   "cell_type": "code",
   "execution_count": 22,
   "id": "cf8251e7-3861-4d75-bfcf-63da2cbe4b06",
   "metadata": {},
   "outputs": [
    {
     "data": {
      "text/plain": [
       "2"
      ]
     },
     "execution_count": 22,
     "metadata": {},
     "output_type": "execute_result"
    }
   ],
   "source": [
    "str1.count(\"a\")"
   ]
  },
  {
   "cell_type": "code",
   "execution_count": 23,
   "id": "fbbc03b5-8166-476e-9e9c-981218d0baf8",
   "metadata": {},
   "outputs": [
    {
     "data": {
      "text/plain": [
       "16"
      ]
     },
     "execution_count": 23,
     "metadata": {},
     "output_type": "execute_result"
    }
   ],
   "source": [
    "str1.find(\"boy\")"
   ]
  },
  {
   "cell_type": "code",
   "execution_count": 24,
   "id": "f4f4a29b-baa8-4be6-88df-0592c482d121",
   "metadata": {},
   "outputs": [
    {
     "data": {
      "text/plain": [
       "'ANAND IS A GOOD BOY'"
      ]
     },
     "execution_count": 24,
     "metadata": {},
     "output_type": "execute_result"
    }
   ],
   "source": [
    "str1.upper()"
   ]
  },
  {
   "cell_type": "code",
   "execution_count": 25,
   "id": "6f9d1122-de1e-4317-8ab8-8be8a0c2b030",
   "metadata": {},
   "outputs": [
    {
     "data": {
      "text/plain": [
       "'anand is a good boy'"
      ]
     },
     "execution_count": 25,
     "metadata": {},
     "output_type": "execute_result"
    }
   ],
   "source": [
    "str1.lower()"
   ]
  },
  {
   "cell_type": "code",
   "execution_count": 26,
   "id": "edc85568-74a5-4b75-9e8a-c60a3b663651",
   "metadata": {},
   "outputs": [
    {
     "data": {
      "text/plain": [
       "'Anand is a good person'"
      ]
     },
     "execution_count": 26,
     "metadata": {},
     "output_type": "execute_result"
    }
   ],
   "source": [
    "str1.replace(\"boy\",\"person\")"
   ]
  },
  {
   "cell_type": "markdown",
   "id": "f5ad3bb1-e09b-414f-93b9-0f9a4f111da3",
   "metadata": {},
   "source": [
    "# 9th lecture is completed here"
   ]
  },
  {
   "cell_type": "code",
   "execution_count": null,
   "id": "343abb01-5b95-4d32-8672-6182b3c976be",
   "metadata": {},
   "outputs": [],
   "source": []
  }
 ],
 "metadata": {
  "kernelspec": {
   "display_name": "Python 3 (ipykernel)",
   "language": "python",
   "name": "python3"
  },
  "language_info": {
   "codemirror_mode": {
    "name": "ipython",
    "version": 3
   },
   "file_extension": ".py",
   "mimetype": "text/x-python",
   "name": "python",
   "nbconvert_exporter": "python",
   "pygments_lexer": "ipython3",
   "version": "3.10.8"
  }
 },
 "nbformat": 4,
 "nbformat_minor": 5
}
