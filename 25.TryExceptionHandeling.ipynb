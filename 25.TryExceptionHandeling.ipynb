{
 "cells": [
  {
   "cell_type": "markdown",
   "id": "be9b24c6-cecf-49de-a920-8c952fd1e018",
   "metadata": {},
   "source": [
    "# Try Exception Handling"
   ]
  },
  {
   "cell_type": "code",
   "execution_count": 1,
   "id": "9d9a4893-7162-45b1-90f3-d94b7eff3235",
   "metadata": {},
   "outputs": [],
   "source": [
    "# this will be required once and when there are chences of error but we want to run our code for further steps after that error as well"
   ]
  },
  {
   "cell_type": "code",
   "execution_count": 2,
   "id": "a193546a-0120-4e84-94cb-547d9fd401e1",
   "metadata": {},
   "outputs": [
    {
     "name": "stdout",
     "output_type": "stream",
     "text": [
      "Enter number1\n"
     ]
    },
    {
     "name": "stdin",
     "output_type": "stream",
     "text": [
      " 12\n"
     ]
    },
    {
     "name": "stdout",
     "output_type": "stream",
     "text": [
      "Enter number2\n"
     ]
    },
    {
     "name": "stdin",
     "output_type": "stream",
     "text": [
      " 14\n"
     ]
    },
    {
     "name": "stdout",
     "output_type": "stream",
     "text": [
      "Sum of these two value is  26\n"
     ]
    }
   ],
   "source": [
    "print(\"Enter number1\")\n",
    "\n",
    "num1 = int(input())\n",
    "\n",
    "print(\"Enter number2\")\n",
    "\n",
    "num2 = int(input())\n",
    "\n",
    "print(\"Sum of these two value is \", num1+num2 )"
   ]
  },
  {
   "cell_type": "code",
   "execution_count": 3,
   "id": "e638c0a3-daea-4561-be92-c0c99260ca1a",
   "metadata": {},
   "outputs": [
    {
     "name": "stdout",
     "output_type": "stream",
     "text": [
      "Enter number1\n"
     ]
    },
    {
     "name": "stdin",
     "output_type": "stream",
     "text": [
      " wwe\n"
     ]
    },
    {
     "ename": "ValueError",
     "evalue": "invalid literal for int() with base 10: 'wwe'",
     "output_type": "error",
     "traceback": [
      "\u001b[0;31m---------------------------------------------------------------------------\u001b[0m",
      "\u001b[0;31mValueError\u001b[0m                                Traceback (most recent call last)",
      "Cell \u001b[0;32mIn[3], line 3\u001b[0m\n\u001b[1;32m      1\u001b[0m \u001b[38;5;28mprint\u001b[39m(\u001b[38;5;124m\"\u001b[39m\u001b[38;5;124mEnter number1\u001b[39m\u001b[38;5;124m\"\u001b[39m)\n\u001b[0;32m----> 3\u001b[0m num1 \u001b[38;5;241m=\u001b[39m \u001b[38;5;28;43mint\u001b[39;49m\u001b[43m(\u001b[49m\u001b[38;5;28;43minput\u001b[39;49m\u001b[43m(\u001b[49m\u001b[43m)\u001b[49m\u001b[43m)\u001b[49m\n\u001b[1;32m      5\u001b[0m \u001b[38;5;28mprint\u001b[39m(\u001b[38;5;124m\"\u001b[39m\u001b[38;5;124mEnter number2\u001b[39m\u001b[38;5;124m\"\u001b[39m)\n\u001b[1;32m      7\u001b[0m num2 \u001b[38;5;241m=\u001b[39m \u001b[38;5;28mint\u001b[39m(\u001b[38;5;28minput\u001b[39m())\n",
      "\u001b[0;31mValueError\u001b[0m: invalid literal for int() with base 10: 'wwe'"
     ]
    }
   ],
   "source": [
    "print(\"Enter number1\")\n",
    "\n",
    "num1 = int(input())\n",
    "\n",
    "print(\"Enter number2\")\n",
    "\n",
    "num2 = int(input())\n",
    "\n",
    "print(\"Sum of these two value is \", num1+num2 )"
   ]
  },
  {
   "cell_type": "code",
   "execution_count": 6,
   "id": "c46e8c44-c19b-42fb-97d5-4383672e2664",
   "metadata": {},
   "outputs": [
    {
     "name": "stdout",
     "output_type": "stream",
     "text": [
      "Enter number1\n"
     ]
    },
    {
     "name": "stdin",
     "output_type": "stream",
     "text": [
      " 12\n"
     ]
    },
    {
     "name": "stdout",
     "output_type": "stream",
     "text": [
      "Enter number2\n"
     ]
    },
    {
     "name": "stdin",
     "output_type": "stream",
     "text": [
      " ww\n"
     ]
    },
    {
     "ename": "ValueError",
     "evalue": "invalid literal for int() with base 10: 'ww'",
     "output_type": "error",
     "traceback": [
      "\u001b[0;31m---------------------------------------------------------------------------\u001b[0m",
      "\u001b[0;31mValueError\u001b[0m                                Traceback (most recent call last)",
      "Cell \u001b[0;32mIn[6], line 7\u001b[0m\n\u001b[1;32m      3\u001b[0m num1 \u001b[38;5;241m=\u001b[39m \u001b[38;5;28mint\u001b[39m(\u001b[38;5;28minput\u001b[39m())\n\u001b[1;32m      5\u001b[0m \u001b[38;5;28mprint\u001b[39m(\u001b[38;5;124m\"\u001b[39m\u001b[38;5;124mEnter number2\u001b[39m\u001b[38;5;124m\"\u001b[39m)\n\u001b[0;32m----> 7\u001b[0m num2 \u001b[38;5;241m=\u001b[39m \u001b[38;5;28;43mint\u001b[39;49m\u001b[43m(\u001b[49m\u001b[38;5;28;43minput\u001b[39;49m\u001b[43m(\u001b[49m\u001b[43m)\u001b[49m\u001b[43m)\u001b[49m\n\u001b[1;32m      9\u001b[0m \u001b[38;5;28mprint\u001b[39m(\u001b[38;5;124m\"\u001b[39m\u001b[38;5;124mSum of these two value is \u001b[39m\u001b[38;5;124m\"\u001b[39m, num1\u001b[38;5;241m+\u001b[39mnum2 )\n\u001b[1;32m     12\u001b[0m \u001b[38;5;28mprint\u001b[39m(\u001b[38;5;124m\"\u001b[39m\u001b[38;5;124mthis is very important line which needs to be executed for this program\u001b[39m\u001b[38;5;124m\"\u001b[39m)\n",
      "\u001b[0;31mValueError\u001b[0m: invalid literal for int() with base 10: 'ww'"
     ]
    }
   ],
   "source": [
    "print(\"Enter number1\")\n",
    "\n",
    "num1 = int(input())\n",
    "\n",
    "print(\"Enter number2\")\n",
    "\n",
    "num2 = int(input())\n",
    "\n",
    "print(\"Sum of these two value is \", num1+num2 )\n",
    "\n",
    "\n",
    "print(\"this is very important line which needs to be executed for this program\")"
   ]
  },
  {
   "cell_type": "code",
   "execution_count": null,
   "id": "4c8b8675-1f16-4e18-beae-0ad22f5fbf48",
   "metadata": {},
   "outputs": [],
   "source": [
    "# In above two codes it is showing error , lets we want to run out further codes but this error is not allowing us to resolve that issue\n",
    "# in this case we will have to use try & except"
   ]
  },
  {
   "cell_type": "code",
   "execution_count": 17,
   "id": "120655f2-6a15-47a2-bb74-e46f2652b858",
   "metadata": {},
   "outputs": [
    {
     "name": "stdout",
     "output_type": "stream",
     "text": [
      "Enter number1\n"
     ]
    },
    {
     "name": "stdin",
     "output_type": "stream",
     "text": [
      " 12\n"
     ]
    },
    {
     "name": "stdout",
     "output_type": "stream",
     "text": [
      "Enter number2\n"
     ]
    },
    {
     "name": "stdin",
     "output_type": "stream",
     "text": [
      " Q\n",
      " W\n"
     ]
    },
    {
     "name": "stdout",
     "output_type": "stream",
     "text": [
      "invalid literal for int() with base 10: 'W'\n",
      "this is very important line which needs to be executed for this program\n"
     ]
    }
   ],
   "source": [
    "# Use try and except to resolve the eissue :\n",
    "\n",
    "print(\"Enter number1\")\n",
    "\n",
    "num1 = int(input())\n",
    "\n",
    "print(\"Enter number2\")\n",
    "\n",
    "try:\n",
    "    num2 = int(input())\n",
    "except Exception as e:\n",
    "    num2 = input()\n",
    "\n",
    "\n",
    "    \n",
    "try:\n",
    "    print(\"Sum of these two value is \", int(num1)+int(num2) )\n",
    "except Exception as e:\n",
    "    print(e)\n",
    "\n",
    "\n",
    "print(\"this is very important line which needs to be executed for this program\")\n",
    "\n"
   ]
  },
  {
   "cell_type": "code",
   "execution_count": 9,
   "id": "39f6cbd8-2044-4ab3-933b-dc4bb9419b49",
   "metadata": {},
   "outputs": [
    {
     "name": "stdout",
     "output_type": "stream",
     "text": [
      "Enter number1\n"
     ]
    },
    {
     "name": "stdin",
     "output_type": "stream",
     "text": [
      " 12\n"
     ]
    },
    {
     "name": "stdout",
     "output_type": "stream",
     "text": [
      "Enter number2\n"
     ]
    },
    {
     "name": "stdin",
     "output_type": "stream",
     "text": [
      " w\n"
     ]
    },
    {
     "name": "stdout",
     "output_type": "stream",
     "text": [
      "invalid literal for int() with base 10: 'w'\n",
      "this is very important line which needs to be executed for this program\n"
     ]
    }
   ],
   "source": [
    "# Use try and except to resolve the eissue :\n",
    "\n",
    "print(\"Enter number1\")\n",
    "\n",
    "num1 = input()\n",
    "\n",
    "print(\"Enter number2\")\n",
    "\n",
    "num2 = input()\n",
    "\n",
    "try:\n",
    "    print(\"Sum of these two value is \", int(num1)+int(num2) )\n",
    "except Exception as e:\n",
    "    print(e)\n",
    "\n",
    "\n",
    "print(\"this is very important line which needs to be executed for this program\")"
   ]
  },
  {
   "cell_type": "code",
   "execution_count": null,
   "id": "692bacfb-b19f-4ac5-a417-1757db15d2f2",
   "metadata": {},
   "outputs": [],
   "source": []
  },
  {
   "cell_type": "code",
   "execution_count": 5,
   "id": "2e078779-716d-4ca1-89c3-89cae1798b2c",
   "metadata": {},
   "outputs": [],
   "source": []
  },
  {
   "cell_type": "code",
   "execution_count": null,
   "id": "77a1fc9b-a996-4aa6-9699-ec8d20e77dcc",
   "metadata": {},
   "outputs": [],
   "source": []
  }
 ],
 "metadata": {
  "kernelspec": {
   "display_name": "Python 3 (ipykernel)",
   "language": "python",
   "name": "python3"
  },
  "language_info": {
   "codemirror_mode": {
    "name": "ipython",
    "version": 3
   },
   "file_extension": ".py",
   "mimetype": "text/x-python",
   "name": "python",
   "nbconvert_exporter": "python",
   "pygments_lexer": "ipython3",
   "version": "3.10.8"
  }
 },
 "nbformat": 4,
 "nbformat_minor": 5
}
