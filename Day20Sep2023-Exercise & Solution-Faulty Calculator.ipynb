{
 "cells": [
  {
   "cell_type": "markdown",
   "id": "c002e54c-4a10-43d0-88e9-d2f49757b295",
   "metadata": {},
   "source": [
    "# Lecture number - 15"
   ]
  },
  {
   "cell_type": "code",
   "execution_count": 1,
   "id": "60a98330-bfbc-48fa-9a4c-07d1ec1a91d0",
   "metadata": {},
   "outputs": [],
   "source": [
    "# Quiz => Create a faulty calculator which will solve all the calculation correctly except these : \n",
    "# 45*3 = 555, 56+9 = 77, 56/6 = 4\n",
    "\n",
    "# Take two numbers as input and print the result \n"
   ]
  },
  {
   "cell_type": "code",
   "execution_count": 8,
   "id": "44ed2e62-f2d4-46af-8a84-964ba0d74af3",
   "metadata": {},
   "outputs": [
    {
     "name": "stdin",
     "output_type": "stream",
     "text": [
      "Enter the first number pls ? 12\n",
      "Enter the seccond number pls?  4\n",
      "Function needs to perform +_*/ ?   /\n"
     ]
    },
    {
     "name": "stdout",
     "output_type": "stream",
     "text": [
      "3.0\n"
     ]
    }
   ],
   "source": [
    "A= int(input(\"Enter the first number pls ?\"))\n",
    "B= int(input(\"Enter the seccond number pls? \"))\n",
    "       \n",
    "Cal = input(\"Function needs to perform +_*/ ?  \")\n",
    "\n",
    "\n",
    "\n",
    "if Cal == \"+\":\n",
    "    if (A,B) == (56,9) :\n",
    "        print(\"77\")\n",
    "    else:\n",
    "        print(A+B)\n",
    "elif Cal == \"-\":\n",
    "    print(A-B)\n",
    "elif Cal == \"*\":\n",
    "    if (A,B) == (45,3) :\n",
    "        print(\"555\")\n",
    "    else:\n",
    "        print(A*B)\n",
    "elif Cal == \"/\":\n",
    "    if (A,B) == (56,6) :\n",
    "        print(\"4\")\n",
    "    else:\n",
    "        print(A/B)\n",
    "    \n",
    "else:\n",
    "    print(\"Happy to help you , please enter the valid operation for Calculator\")\n",
    "    \n",
    "\n"
   ]
  },
  {
   "cell_type": "markdown",
   "id": "2c61ca0d-c425-4e00-b160-4f6acaf46983",
   "metadata": {},
   "source": [
    "# This is end of lect 16 => Result program is for Faulty Calvulator"
   ]
  },
  {
   "cell_type": "code",
   "execution_count": null,
   "id": "6b7baa01-5518-4f68-bbe7-535ff4f429df",
   "metadata": {},
   "outputs": [],
   "source": []
  }
 ],
 "metadata": {
  "kernelspec": {
   "display_name": "Python 3 (ipykernel)",
   "language": "python",
   "name": "python3"
  },
  "language_info": {
   "codemirror_mode": {
    "name": "ipython",
    "version": 3
   },
   "file_extension": ".py",
   "mimetype": "text/x-python",
   "name": "python",
   "nbconvert_exporter": "python",
   "pygments_lexer": "ipython3",
   "version": "3.10.8"
  }
 },
 "nbformat": 4,
 "nbformat_minor": 5
}
