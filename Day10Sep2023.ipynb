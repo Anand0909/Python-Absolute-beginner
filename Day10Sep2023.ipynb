{
 "cells": [
  {
   "cell_type": "code",
   "execution_count": 2,
   "id": "a555a207-fa05-4db5-9e05-ea680d5f749d",
   "metadata": {},
   "outputs": [
    {
     "name": "stdout",
     "output_type": "stream",
     "text": [
      "Hello world\n"
     ]
    }
   ],
   "source": [
    "print(\"Hello world\")"
   ]
  },
  {
   "cell_type": "code",
   "execution_count": 3,
   "id": "87a7c749-bfac-48fa-a429-e62b7b65c768",
   "metadata": {},
   "outputs": [],
   "source": [
    "# 3rd video of list \"Pyrhon for absolute beginnner lis\" is for Python and Pycharm IDE installation "
   ]
  },
  {
   "cell_type": "code",
   "execution_count": 5,
   "id": "ebcffaa8-49b3-4b32-bd1a-543c15fb56b1",
   "metadata": {},
   "outputs": [],
   "source": [
    "# Pip - Package manager"
   ]
  },
  {
   "cell_type": "code",
   "execution_count": 8,
   "id": "cc0e34d6-34e4-4236-92bd-9488f563781a",
   "metadata": {},
   "outputs": [],
   "source": [
    "# 4 videos are completed as of now, now I have to start 5th Video where programming starts now "
   ]
  },
  {
   "cell_type": "code",
   "execution_count": 10,
   "id": "a0b6d16f-df51-4705-a69d-799d35a561be",
   "metadata": {},
   "outputs": [
    {
     "data": {
      "text/plain": [
       "64"
      ]
     },
     "execution_count": 10,
     "metadata": {},
     "output_type": "execute_result"
    }
   ],
   "source": [
    "10+20+34"
   ]
  },
  {
   "cell_type": "code",
   "execution_count": 12,
   "id": "4cc6451d-4434-4e50-bf82-1d4ad51d1992",
   "metadata": {},
   "outputs": [
    {
     "data": {
      "text/plain": [
       "1971.5"
      ]
     },
     "execution_count": 12,
     "metadata": {},
     "output_type": "execute_result"
    }
   ],
   "source": [
    "10*84+23*45+22*4+34/4"
   ]
  },
  {
   "cell_type": "code",
   "execution_count": 13,
   "id": "2a9b3406-82e0-49e3-b3b2-574429fe4a2d",
   "metadata": {},
   "outputs": [],
   "source": [
    "# Triple code used for multi line comment , or we can use Crtl + /"
   ]
  },
  {
   "cell_type": "code",
   "execution_count": 14,
   "id": "f745246e-d7f2-4f7c-9c26-c832dc4f4482",
   "metadata": {},
   "outputs": [
    {
     "name": "stdout",
     "output_type": "stream",
     "text": [
      "C:\\Anand0909\n"
     ]
    }
   ],
   "source": [
    "print(\"C:\\Anand0909\")"
   ]
  },
  {
   "cell_type": "code",
   "execution_count": 15,
   "id": "899cc33d-c026-4743-8080-7e8ebcd41567",
   "metadata": {},
   "outputs": [
    {
     "name": "stdout",
     "output_type": "stream",
     "text": [
      "C:\n",
      " Anand0909\n"
     ]
    }
   ],
   "source": [
    "print(\"C:\\n Anand0909\")"
   ]
  },
  {
   "cell_type": "code",
   "execution_count": 17,
   "id": "f059e360-dd32-460f-959a-dac67832d247",
   "metadata": {},
   "outputs": [],
   "source": [
    "# \\n is for new line character, while as back slash +t wil give the Tab input "
   ]
  },
  {
   "cell_type": "code",
   "execution_count": 18,
   "id": "139a405e-9699-4cc1-b4a2-fbb2270c9dde",
   "metadata": {},
   "outputs": [
    {
     "name": "stdout",
     "output_type": "stream",
     "text": [
      "Anand is \n",
      " good boy \tfor sure\n"
     ]
    }
   ],
   "source": [
    "print(\"Anand is \\n good boy \\tfor sure\")"
   ]
  },
  {
   "cell_type": "code",
   "execution_count": 19,
   "id": "0894f938-5b6b-404f-a8f3-50454cffa72c",
   "metadata": {},
   "outputs": [],
   "source": [
    "# few important escape sequence in Python \n",
    "\n",
    "# Code\tDescription\n",
    "# \\’\tSingle quotation\n",
    "# \\\\\tBackslash\n",
    "# \\n\tNew Line\n",
    "# \\r\tCarriage return\n",
    "# \\t\tTab\n",
    "# \\b\tBackspace\n",
    "# \\f\tForm feed\n",
    "# \\ooo\tOctal equivalent\n",
    "# \\xhhh\tHexadecimal equivalent"
   ]
  },
  {
   "cell_type": "markdown",
   "id": "e209d812-398f-47d5-882b-b335c0a810bb",
   "metadata": {},
   "source": [
    "7th Video completed "
   ]
  },
  {
   "cell_type": "code",
   "execution_count": null,
   "id": "d66bc1a4-50b7-47ae-8a61-3363f2086c84",
   "metadata": {},
   "outputs": [],
   "source": []
  }
 ],
 "metadata": {
  "kernelspec": {
   "display_name": "Python 3 (ipykernel)",
   "language": "python",
   "name": "python3"
  },
  "language_info": {
   "codemirror_mode": {
    "name": "ipython",
    "version": 3
   },
   "file_extension": ".py",
   "mimetype": "text/x-python",
   "name": "python",
   "nbconvert_exporter": "python",
   "pygments_lexer": "ipython3",
   "version": "3.10.8"
  }
 },
 "nbformat": 4,
 "nbformat_minor": 5
}
