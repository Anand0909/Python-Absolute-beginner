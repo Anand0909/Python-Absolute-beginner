{
 "cells": [
  {
   "cell_type": "code",
   "execution_count": 1,
   "id": "ef917ca8-463f-40f7-a997-a5ed40e504b2",
   "metadata": {},
   "outputs": [],
   "source": [
    "# This is about to how to work open file with python "
   ]
  },
  {
   "cell_type": "code",
   "execution_count": 2,
   "id": "e47dbcb1-31e0-44e3-b5b6-e8898b8817ed",
   "metadata": {},
   "outputs": [],
   "source": [
    "# # # read mode - Open file for reading mode\n",
    "# # write mode - open a file for writing\n",
    "# # exclusive creation mode - cretes file if not exsist\n",
    "# append mode - add more content to the file \n",
    "# text mode - open file in text format\n",
    "# binary mode - open file in binary mode\n",
    "# + mode - open file for read and write both"
   ]
  },
  {
   "cell_type": "code",
   "execution_count": 7,
   "id": "35c832b4-6ee1-4464-bbc3-4dee6b70c764",
   "metadata": {},
   "outputs": [],
   "source": [
    "# Q1 type the code for accessing the docstring of any function ?\n",
    "# Ans. print(defined function.__doc__) => print(function defined dot double underscore doc double underscore)\n"
   ]
  },
  {
   "cell_type": "code",
   "execution_count": 8,
   "id": "b746bd07-356f-4f77-9909-5f4a59d77222",
   "metadata": {},
   "outputs": [
    {
     "name": "stdout",
     "output_type": "stream",
     "text": [
      "This function will provide product of two numbers\n",
      "340\n"
     ]
    }
   ],
   "source": [
    "# Ans.\n",
    "\n",
    "def fun1(x,y):\n",
    "    \"\"\"This function will provide product of two numbers\"\"\"\n",
    "    product=x*y\n",
    "    return product\n",
    "\n",
    "v = fun1(10,34)\n",
    "\n",
    "print(fun1.__doc__)\n",
    "print(v)\n"
   ]
  },
  {
   "cell_type": "code",
   "execution_count": null,
   "id": "2df0974c-544a-4caf-9ba7-58273776396c",
   "metadata": {},
   "outputs": [],
   "source": []
  },
  {
   "cell_type": "code",
   "execution_count": null,
   "id": "eb4ee733-badb-436c-89a7-4b57d5410d69",
   "metadata": {},
   "outputs": [],
   "source": []
  }
 ],
 "metadata": {
  "kernelspec": {
   "display_name": "Python 3 (ipykernel)",
   "language": "python",
   "name": "python3"
  },
  "language_info": {
   "codemirror_mode": {
    "name": "ipython",
    "version": 3
   },
   "file_extension": ".py",
   "mimetype": "text/x-python",
   "name": "python",
   "nbconvert_exporter": "python",
   "pygments_lexer": "ipython3",
   "version": "3.10.8"
  }
 },
 "nbformat": 4,
 "nbformat_minor": 5
}
