{
 "cells": [
  {
   "cell_type": "markdown",
   "id": "be7858a5-894a-4c54-b1e9-52fa396b957b",
   "metadata": {},
   "source": [
    "# Operators in Python"
   ]
  },
  {
   "cell_type": "code",
   "execution_count": 2,
   "id": "5870d866-ecc4-4c49-a8ef-7c198254fb6e",
   "metadata": {},
   "outputs": [],
   "source": [
    "# 1.Airthmetic Operator\n",
    "# 2.Assignment Operators\n",
    "# 3.Comparison Operators\n",
    "# 4.Logical Operators\n",
    "# 5.Identity Operators\n",
    "# 6.Membership Operators\n",
    "# 7.Bitwise Operator"
   ]
  },
  {
   "cell_type": "code",
   "execution_count": 6,
   "id": "fea6098e-b218-41e7-a71b-cb2faa5e917c",
   "metadata": {},
   "outputs": [
    {
     "name": "stdout",
     "output_type": "stream",
     "text": [
      "5+6 is 11\n",
      "5-6 is -1\n",
      "5*6 is 30\n",
      "5**3 is 125\n",
      "5/6 is 0.8333333333333334\n",
      "This function will provide divident value only => 15//6 is 2\n",
      "Modulus => It gives reminder value after division, 15%6 is 3\n"
     ]
    }
   ],
   "source": [
    "# Airthmatic Operator\n",
    "\n",
    "print(\"5+6 is\", 5+6)\n",
    "print(\"5-6 is\", 5-6)\n",
    "print(\"5*6 is\", 5*6)\n",
    "print(\"5**3 is\", 5**3)\n",
    "print(\"5/6 is\", 5/6)\n",
    "print(\"This function will provide divident value only => 15//6 is\", 15//6)\n",
    "print(\"Modulus => It gives reminder value after division, 15%6 is\", 15%6)"
   ]
  },
  {
   "cell_type": "code",
   "execution_count": 7,
   "id": "106954bc-c787-4004-8e1a-0da8bbbce409",
   "metadata": {},
   "outputs": [],
   "source": [
    "# Assignment Operator\n",
    "\n",
    "# 1. +=\n",
    "# 2. /=\n",
    "# 3. -=\n",
    "# 4. %="
   ]
  },
  {
   "cell_type": "code",
   "execution_count": 8,
   "id": "5a20fe86-e822-4d1e-8cf6-47e8b63ebcf6",
   "metadata": {},
   "outputs": [],
   "source": [
    "# Comparison Operator\n",
    "\n",
    "# 1. ==\n",
    "# 2. <=\n",
    "# 3. >="
   ]
  },
  {
   "cell_type": "code",
   "execution_count": 11,
   "id": "4cb58c32-e855-45ae-81c4-83e7fa31c050",
   "metadata": {},
   "outputs": [],
   "source": [
    "# Logical Operator\n",
    "\n",
    "# 1. and\n",
    "# 2. or\n"
   ]
  },
  {
   "cell_type": "code",
   "execution_count": 12,
   "id": "f6d47ae1-d852-46a7-872c-6919f64ea79b",
   "metadata": {},
   "outputs": [],
   "source": [
    "# Identity Operator\n",
    "\n",
    "# 1. is\n",
    "# 2. is not\n"
   ]
  },
  {
   "cell_type": "code",
   "execution_count": 13,
   "id": "3d1e9a55-23ac-4835-8fac-a6781f51ec7b",
   "metadata": {},
   "outputs": [],
   "source": [
    "# Membership Operator\n",
    "\n",
    "# 1. in\n",
    "# 2. not in"
   ]
  },
  {
   "cell_type": "code",
   "execution_count": 9,
   "id": "24ce5523-3c51-4fe5-8ad7-ad902d321ebd",
   "metadata": {},
   "outputs": [
    {
     "name": "stdout",
     "output_type": "stream",
     "text": [
      "1\n",
      "3\n",
      "2\n"
     ]
    }
   ],
   "source": [
    "# Bitwise Operator - works with boolean\n",
    "\n",
    "# Operators are => & => And , | => Or\n",
    "\n",
    "# 0 - 00\n",
    "# 1 - 01\n",
    "# 2 - 10\n",
    "# 3 - 11\n",
    "\n",
    "print(0 | 1)\n",
    "print(2 | 3)\n",
    "print(2 & 3)"
   ]
  },
  {
   "cell_type": "code",
   "execution_count": null,
   "id": "a0dcc721-ed3a-457a-b7c6-d0266d02e78e",
   "metadata": {},
   "outputs": [],
   "source": []
  }
 ],
 "metadata": {
  "kernelspec": {
   "display_name": "Python 3 (ipykernel)",
   "language": "python",
   "name": "python3"
  },
  "language_info": {
   "codemirror_mode": {
    "name": "ipython",
    "version": 3
   },
   "file_extension": ".py",
   "mimetype": "text/x-python",
   "name": "python",
   "nbconvert_exporter": "python",
   "pygments_lexer": "ipython3",
   "version": "3.10.8"
  }
 },
 "nbformat": 4,
 "nbformat_minor": 5
}
