{
 "cells": [
  {
   "cell_type": "code",
   "execution_count": 2,
   "id": "3aa07245-4142-4a96-a81c-e503fd0c8850",
   "metadata": {},
   "outputs": [],
   "source": [
    "#Variable ,data types and Typecasting - 7th Lecture"
   ]
  },
  {
   "cell_type": "code",
   "execution_count": 13,
   "id": "58e56ec8-f56e-4027-ae83-c404c58721c2",
   "metadata": {},
   "outputs": [],
   "source": [
    "var1 = \"Hello World \""
   ]
  },
  {
   "cell_type": "code",
   "execution_count": 14,
   "id": "1844761b-568b-4704-95c2-116900360863",
   "metadata": {},
   "outputs": [
    {
     "name": "stdout",
     "output_type": "stream",
     "text": [
      "Hello World \n"
     ]
    }
   ],
   "source": [
    "print(var1)"
   ]
  },
  {
   "cell_type": "code",
   "execution_count": 15,
   "id": "b5c38270-5d19-4bd8-8695-08849054511a",
   "metadata": {},
   "outputs": [
    {
     "data": {
      "text/plain": [
       "50.7"
      ]
     },
     "execution_count": 15,
     "metadata": {},
     "output_type": "execute_result"
    }
   ],
   "source": [
    "20+30.7"
   ]
  },
  {
   "cell_type": "code",
   "execution_count": 16,
   "id": "307cb30e-e5fc-4809-9ea2-838caf2b02e2",
   "metadata": {},
   "outputs": [],
   "source": [
    "var2 =\" How are yoy guys\""
   ]
  },
  {
   "cell_type": "code",
   "execution_count": 17,
   "id": "bf420aef-42de-41e9-8d35-55bd91aa4d9d",
   "metadata": {},
   "outputs": [
    {
     "name": "stdout",
     "output_type": "stream",
     "text": [
      "Hello World  How are yoy guys\n"
     ]
    }
   ],
   "source": [
    "print(var1 + var2)"
   ]
  },
  {
   "cell_type": "code",
   "execution_count": 18,
   "id": "12577698-c155-420e-bdbe-add08fa895c7",
   "metadata": {},
   "outputs": [],
   "source": [
    "# while we add two string using + , then in result it Concatenate the string "
   ]
  },
  {
   "cell_type": "code",
   "execution_count": 21,
   "id": "cd35e0f3-43fd-4d3f-a61e-0292bfde26b1",
   "metadata": {},
   "outputs": [
    {
     "name": "stdout",
     "output_type": "stream",
     "text": [
      "Hello Bittu\n",
      "Hello Bittu\n",
      "Hello Bittu\n",
      "Hello Bittu\n",
      "Hello Bittu\n",
      "Hello Bittu\n",
      "Hello Bittu\n",
      "Hello Bittu\n",
      "Hello Bittu\n",
      "Hello Bittu\n",
      "\n"
     ]
    }
   ],
   "source": [
    "print(10*\"Hello Bittu\\n\")"
   ]
  },
  {
   "cell_type": "code",
   "execution_count": 26,
   "id": "a77e745d-6c48-4ea4-ab4a-9246e55837ed",
   "metadata": {},
   "outputs": [
    {
     "name": "stdin",
     "output_type": "stream",
     "text": [
      " 23\n"
     ]
    }
   ],
   "source": [
    "ipunum = int(input())"
   ]
  },
  {
   "cell_type": "code",
   "execution_count": 27,
   "id": "686c446c-0dc9-4f4d-ba7a-4e7431162eb4",
   "metadata": {},
   "outputs": [
    {
     "name": "stdout",
     "output_type": "stream",
     "text": [
      "<class 'int'>\n"
     ]
    }
   ],
   "source": [
    "print(type(ipunum))"
   ]
  },
  {
   "cell_type": "code",
   "execution_count": 28,
   "id": "b283f733-9ebf-4ba8-966e-9791218e631a",
   "metadata": {},
   "outputs": [],
   "source": [
    "# Quiz 1 => Simple calculator , which ask about two numbers and add them "
   ]
  },
  {
   "cell_type": "code",
   "execution_count": 37,
   "id": "409e85f3-8c5f-4486-bf3d-38e4692633df",
   "metadata": {},
   "outputs": [
    {
     "name": "stdin",
     "output_type": "stream",
     "text": [
      "What is the value of first number :   12\n",
      "What is the value of second number :   24\n"
     ]
    },
    {
     "name": "stdout",
     "output_type": "stream",
     "text": [
      "Total of these two numbers is  36\n"
     ]
    }
   ],
   "source": [
    "x = int(input(\"What is the value of first number :  \"))\n",
    "y = int(input(\"What is the value of second number :  \"))\n",
    "\n",
    "Sum = x + y\n",
    "\n",
    "print(\"Total of these two numbers is \",Sum)"
   ]
  },
  {
   "cell_type": "markdown",
   "id": "f9cfe4b1-3f45-4de0-98e1-ba69635e20e4",
   "metadata": {},
   "source": [
    "### This is completion of 8th Video"
   ]
  },
  {
   "cell_type": "code",
   "execution_count": null,
   "id": "6b4fa430-b744-441e-96ab-d3e26d29ec60",
   "metadata": {},
   "outputs": [],
   "source": []
  }
 ],
 "metadata": {
  "kernelspec": {
   "display_name": "Python 3 (ipykernel)",
   "language": "python",
   "name": "python3"
  },
  "language_info": {
   "codemirror_mode": {
    "name": "ipython",
    "version": 3
   },
   "file_extension": ".py",
   "mimetype": "text/x-python",
   "name": "python",
   "nbconvert_exporter": "python",
   "pygments_lexer": "ipython3",
   "version": "3.10.8"
  }
 },
 "nbformat": 4,
 "nbformat_minor": 5
}
